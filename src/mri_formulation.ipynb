{
 "cells": [
  {
   "cell_type": "markdown",
   "metadata": {},
   "source": [
    "# Install Dependencies"
   ]
  },
  {
   "cell_type": "code",
   "execution_count": 1,
   "metadata": {},
   "outputs": [],
   "source": [
    "import pandas as pd\n",
    "from sklearn.metrics import rand_score, adjusted_rand_score\n",
    "import numpy as np"
   ]
  },
  {
   "cell_type": "markdown",
   "metadata": {},
   "source": [
    "# Formulation of the Modified Rand Index (MRI)"
   ]
  },
  {
   "cell_type": "code",
   "execution_count": null,
   "metadata": {},
   "outputs": [],
   "source": [
    "import itertools\n",
    "\n",
    "# TODO: Reimplement the current MRI function without forming a network\n",
    "def modified_rand_score(labels_true, labels_pred, nodes_true_list, nodes_pred_list):\n",
    "    \"\"\"\n",
    "    Compute the Modified Rand Index (MRI), an extension of the Rand Index\n",
    "    that accounts for missing elements between partitions.\n",
    "\n",
    "    Parameters\n",
    "    ----------\n",
    "    labels_true : list\n",
    "        True labels corresponding to the nodes.\n",
    "    labels_pred : list\n",
    "        Predicted labels corresponding to the nodes.\n",
    "    nodes_true_list : list\n",
    "        An ordered list of nodes corresponding to labels_true.\n",
    "    nodes_pred_list : list\n",
    "        An ordered list of nodes corresponding to labels_pred.\n",
    "\n",
    "    Returns\n",
    "    -------\n",
    "    mri : float\n",
    "        The Modified Rand Index score.\n",
    "    \"\"\"\n",
    "\n",
    "    n = len(labels_true)\n",
    "    total_pairs = n * (n - 1) // 2  # All possible unique node pairs\n",
    "    n_00, n_11, n_xx = 0, 0, 0  # Initialize counts\n",
    "\n",
    "    # Convert lists to sets for fast lookup\n",
    "    nodes_true_set = set(nodes_true_list)\n",
    "    nodes_pred_set = set(nodes_pred_list)\n",
    "\n",
    "    # Identify common nodes between the two partitions\n",
    "    common_nodes = nodes_true_set.intersection(nodes_pred_set)\n",
    "\n",
    "    # Iterate over all node pairs\n",
    "    for i, j in itertools.combinations(range(n), 2):  # Iterate over all unique pairs\n",
    "        node_i, node_j = nodes_true_list[i], nodes_true_list[j]\n",
    "\n",
    "        # If either node is missing from the common set, count this pair as n_xx.\n",
    "        if node_i not in common_nodes or node_j not in common_nodes:\n",
    "            n_xx += 1\n",
    "        else:\n",
    "            same_true = (labels_true[i] == labels_true[j])\n",
    "            same_pred = (labels_pred[i] == labels_pred[j])\n",
    "            if same_true and same_pred:\n",
    "                n_11 += 1  # Agreeing pair (same in both)\n",
    "            elif not same_true and not same_pred:\n",
    "                n_00 += 1  # Agreeing pair (different in both)\n",
    "\n",
    "    # Compute MRI Score\n",
    "    if total_pairs == 0:\n",
    "        return 1.0  # Perfect match in trivial cases\n",
    "\n",
    "    MRI = (n_00 + n_11 + n_xx) / total_pairs\n",
    "    return MRI"
   ]
  },
  {
   "cell_type": "markdown",
   "metadata": {},
   "source": [
    "# Testing the MRI formula"
   ]
  },
  {
   "cell_type": "markdown",
   "metadata": {},
   "source": [
    "## Sample test cases"
   ]
  },
  {
   "cell_type": "code",
   "execution_count": 3,
   "metadata": {},
   "outputs": [],
   "source": [
    "test_cases = [\n",
    "    {\n",
    "        \"name\": \"Perfect Match\",\n",
    "        \"labels_true\": [\"0\", \"0\", \"1\", \"1\"],\n",
    "        \"labels_pred\": [\"0\", \"0\", \"1\", \"1\"],\n",
    "        \"nodes_true\": [\"A\", \"B\", \"C\", \"D\"],\n",
    "        \"nodes_pred\": [\"A\", \"B\", \"C\", \"D\"]\n",
    "    },\n",
    "    {\n",
    "        \"name\": \"Completely Different Clustering\",\n",
    "        \"labels_true\": [\"0\", \"0\", \"1\", \"1\"],\n",
    "        \"labels_pred\": [\"1\", \"1\", \"0\", \"0\"],\n",
    "        \"nodes_true\": [\"A\", \"B\", \"C\", \"D\"],\n",
    "        \"nodes_pred\": [\"A\", \"B\", \"C\", \"D\"]\n",
    "    },\n",
    "    {\n",
    "        \"name\": \"Missing Nodes in Predicted Partition\",\n",
    "        \"labels_true\": [\"0\", \"0\", \"1\", \"1\", \"2\"],\n",
    "        \"labels_pred\": [\"0\", \"0\", \"1\", \"1\"],  # Missing 'E'\n",
    "        \"nodes_true\": [\"A\", \"B\", \"C\", \"D\", \"E\"],\n",
    "        \"nodes_pred\": [\"A\", \"B\", \"C\", \"D\"]\n",
    "    },\n",
    "    {\n",
    "        \"name\": \"Partial Overlap with Missing Nodes\",\n",
    "        \"labels_true\": [\"0\", \"0\", \"1\", \"1\", \"2\", \"2\"],\n",
    "        \"labels_pred\": [\"0\", \"1\", \"0\", \"1\"],  # Missing 'E' and 'F'\n",
    "        \"nodes_true\": [\"A\", \"B\", \"C\", \"D\", \"E\", \"F\"],\n",
    "        \"nodes_pred\": [\"A\", \"B\", \"C\", \"D\"]\n",
    "    }\n",
    "]"
   ]
  },
  {
   "cell_type": "markdown",
   "metadata": {},
   "source": [
    "## Running the metrics (RI, ARI, MRI) on the sample test cases"
   ]
  },
  {
   "cell_type": "code",
   "execution_count": 4,
   "metadata": {},
   "outputs": [
    {
     "name": "stdout",
     "output_type": "stream",
     "text": [
      "Test Case: Perfect Match\n",
      "  MRI: 1.0000\n",
      "  RI: 1.0000\n",
      "  ARI: 1.0000\n",
      "----------------------------------------\n",
      "Test Case: Completely Different Clustering\n",
      "  MRI: 1.0000\n",
      "  RI: 1.0000\n",
      "  ARI: 1.0000\n",
      "----------------------------------------\n",
      "Test Case: Missing Nodes in Predicted Partition\n",
      "  MRI: 1.0000\n",
      "  RI: 1.0000\n",
      "  ARI: 1.0000\n",
      "----------------------------------------\n",
      "Test Case: Partial Overlap with Missing Nodes\n",
      "  MRI: 0.7333\n",
      "  RI: 0.3333\n",
      "  ARI: -0.5000\n",
      "----------------------------------------\n"
     ]
    }
   ],
   "source": [
    "for case in test_cases:\n",
    "    labels_true = case[\"labels_true\"]\n",
    "    labels_pred = case[\"labels_pred\"]\n",
    "    nodes_true = case[\"nodes_true\"]\n",
    "    nodes_pred = case[\"nodes_pred\"]\n",
    "\n",
    "    mri_score = modified_rand_score(labels_true, labels_pred, nodes_true, nodes_pred)\n",
    "    ri_score = rand_score(labels_true[:len(labels_pred)], labels_pred)  # Match sizes\n",
    "    ari_score = adjusted_rand_score(labels_true[:len(labels_pred)], labels_pred)\n",
    "\n",
    "    print(f\"Test Case: {case['name']}\")\n",
    "    print(f\"  MRI: {mri_score:.4f}\")\n",
    "    print(f\"  RI: {ri_score:.4f}\")\n",
    "    print(f\"  ARI: {ari_score:.4f}\")\n",
    "    print(\"-\" * 40)"
   ]
  }
 ],
 "metadata": {
  "kernelspec": {
   "display_name": "Python 3",
   "language": "python",
   "name": "python3"
  },
  "language_info": {
   "codemirror_mode": {
    "name": "ipython",
    "version": 3
   },
   "file_extension": ".py",
   "mimetype": "text/x-python",
   "name": "python",
   "nbconvert_exporter": "python",
   "pygments_lexer": "ipython3",
   "version": "3.12.3"
  }
 },
 "nbformat": 4,
 "nbformat_minor": 2
}
