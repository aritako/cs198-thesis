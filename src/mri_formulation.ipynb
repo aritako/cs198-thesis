{
 "cells": [
  {
   "cell_type": "markdown",
   "metadata": {},
   "source": [
    "# Install Dependencies"
   ]
  },
  {
   "cell_type": "code",
   "execution_count": 1,
   "metadata": {},
   "outputs": [],
   "source": [
    "import pandas as pd\n",
    "from sklearn.metrics import pair_confusion_matrix\n",
    "import numpy as np"
   ]
  },
  {
   "cell_type": "markdown",
   "metadata": {},
   "source": [
    "# Formulation of the Modified Rand Index (MRI)"
   ]
  },
  {
   "cell_type": "code",
   "execution_count": null,
   "metadata": {},
   "outputs": [],
   "source": [
    "import itertools\n",
    "\n",
    "def modified_rand_score(labels_true, labels_pred, nodes_true_list, nodes_pred_list):\n",
    "    \"\"\"\n",
    "    Compute the Modified Rand Index (MRI), an extension of the Rand Index\n",
    "    that accounts for missing elements between partitions.\n",
    "\n",
    "    Parameters\n",
    "    ----------\n",
    "    labels_true : list\n",
    "        True labels corresponding to the nodes.\n",
    "    labels_pred : list\n",
    "        Predicted labels corresponding to the nodes.\n",
    "    nodes_true_list : list\n",
    "        An ordered list of nodes corresponding to labels_true.\n",
    "    nodes_pred_list : list\n",
    "        An ordered list of nodes corresponding to labels_pred.\n",
    "\n",
    "    Returns\n",
    "    -------\n",
    "    mri : float\n",
    "        The Modified Rand Index score.\n",
    "    \"\"\"\n",
    "\n",
    "    n = len(labels_true)\n",
    "    total_pairs = n * (n - 1) // 2  # All possible unique node pairs\n",
    "    n_00, n_11, n_xx = 0, 0, 0  # Initialize counts\n",
    "\n",
    "    # Convert lists to sets for fast lookup\n",
    "    nodes_true_set = set(nodes_true_list)\n",
    "    nodes_pred_set = set(nodes_pred_list)\n",
    "\n",
    "    # Identify common nodes between the two partitions\n",
    "    common_nodes = nodes_true_set.intersection(nodes_pred_set)\n",
    "\n",
    "    # Iterate over all node pairs\n",
    "    for i, j in itertools.combinations(range(n), 2):  # Iterate over all unique pairs\n",
    "        node_i, node_j = nodes_true_list[i], nodes_true_list[j]\n",
    "\n",
    "        # If either node is missing from the common set, count this pair as n_xx.\n",
    "        if node_i not in common_nodes or node_j not in common_nodes:\n",
    "            n_xx += 1\n",
    "        else:\n",
    "            same_true = (labels_true[i] == labels_true[j])\n",
    "            same_pred = (labels_pred[i] == labels_pred[j])\n",
    "            if same_true and same_pred:\n",
    "                n_11 += 1  # Agreeing pair (same in both)\n",
    "            elif not same_true and not same_pred:\n",
    "                n_00 += 1  # Agreeing pair (different in both)\n",
    "\n",
    "    # Compute MRI Score\n",
    "    if total_pairs == 0:\n",
    "        return 1.0  # Perfect match in trivial cases\n",
    "\n",
    "    MRI = (n_00 + n_11 + n_xx) / total_pairs\n",
    "    return MRI"
   ]
  }
 ],
 "metadata": {
  "kernelspec": {
   "display_name": "Python 3",
   "language": "python",
   "name": "python3"
  },
  "language_info": {
   "codemirror_mode": {
    "name": "ipython",
    "version": 3
   },
   "file_extension": ".py",
   "mimetype": "text/x-python",
   "name": "python",
   "nbconvert_exporter": "python",
   "pygments_lexer": "ipython3",
   "version": "3.12.0"
  }
 },
 "nbformat": 4,
 "nbformat_minor": 2
}
