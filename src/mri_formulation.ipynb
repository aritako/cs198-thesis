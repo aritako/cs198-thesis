{
 "cells": [
  {
   "cell_type": "markdown",
   "metadata": {},
   "source": [
    "# Install Dependencies"
   ]
  },
  {
   "cell_type": "code",
   "execution_count": 1,
   "metadata": {},
   "outputs": [],
   "source": [
    "import pandas as pd\n",
    "from sklearn.metrics import pair_confusion_matrix\n",
    "import numpy as np"
   ]
  },
  {
   "cell_type": "code",
   "execution_count": 2,
   "metadata": {},
   "outputs": [],
   "source": [
    "def modified_rand_score(labels_true, labels_pred):\n",
    "    \"\"\"\n",
    "    Computes the Modified Rand Index (MRI), an extension of the Rand Index\n",
    "    that accounts for missing elements between partitions.\n",
    "    \n",
    "    Parameters:\n",
    "    - labels_true: array-like, shape (n_samples,)\n",
    "      Ground truth labels (e.g., KEGG or Cho dataset).\n",
    "      \n",
    "    - labels_pred: array-like, shape (n_samples,)\n",
    "      Predicted labels from a clustering algorithm.\n",
    "\n",
    "    Returns:\n",
    "    - MRI: float\n",
    "      A similarity score between 0.0 and 1.0, where higher values indicate better alignment.\n",
    "    \"\"\"\n",
    "    \n",
    "    # Compute confusion matrix components\n",
    "    contingency = pair_confusion_matrix(labels_true, labels_pred)\n",
    "    \n",
    "    # Extract agreement and disagreement values\n",
    "    n_00, n_01, n_10, n_11 = contingency.ravel()\n",
    "    \n",
    "    # Compute n_xx (pairs where at least one node is missing in one partition)\n",
    "    total_nodes_true = len(set(labels_true))  # Unique classes in true labels\n",
    "    total_nodes_pred = len(set(labels_pred))  # Unique classes in predicted labels\n",
    "    missing_pairs = abs(total_nodes_true - total_nodes_pred) * (abs(total_nodes_true - total_nodes_pred) - 1) / 2\n",
    "    n_xx = int(missing_pairs)\n",
    "\n",
    "    # Compute total pairs\n",
    "    total_pairs = n_00 + n_11 + n_01 + n_10 + n_xx\n",
    "\n",
    "    # Compute MRI score\n",
    "    if total_pairs == 0:\n",
    "        return 1.0  # Perfect match in trivial cases\n",
    "\n",
    "    MRI = (n_00 + n_11 + n_xx) / total_pairs\n",
    "    return MRI"
   ]
  }
 ],
 "metadata": {
  "kernelspec": {
   "display_name": "Python 3",
   "language": "python",
   "name": "python3"
  },
  "language_info": {
   "codemirror_mode": {
    "name": "ipython",
    "version": 3
   },
   "file_extension": ".py",
   "mimetype": "text/x-python",
   "name": "python",
   "nbconvert_exporter": "python",
   "pygments_lexer": "ipython3",
   "version": "3.12.0"
  }
 },
 "nbformat": 4,
 "nbformat_minor": 2
}
