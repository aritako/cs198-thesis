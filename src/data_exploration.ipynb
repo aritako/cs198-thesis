{
  "cells": [
    {
      "cell_type": "markdown",
      "metadata": {},
      "source": [
        "# Data Exploration"
      ]
    },
    {
      "cell_type": "markdown",
      "metadata": {},
      "source": [
        "### Checking if Cho is a proper subset of KEGG"
      ]
    },
    {
      "cell_type": "code",
      "execution_count": 42,
      "metadata": {},
      "outputs": [
        {
          "name": "stdout",
          "output_type": "stream",
          "text": [
            "Are all cho_genes present in kegg_genes? False\n",
            "Number of missing genes in kegg_genes: 21\n",
            "18     YLR273c\n",
            "34     YKL042w\n",
            "39     YNL225c\n",
            "43     YLR313c\n",
            "44     YGR041w\n",
            "61     YJL173c\n",
            "80     YMR179w\n",
            "85     YDL227c\n",
            "86     YNL173c\n",
            "101    YMR198w\n",
            "103    YDR356w\n",
            "111    YDL197c\n",
            "123    YIR017c\n",
            "130    YKL049c\n",
            "131    YCL014w\n",
            "132    YOR188w\n",
            "140    YLR014c\n",
            "150    YBR138c\n",
            "154    YJR092w\n",
            "155    YLR353w\n",
            "168    YDL048c\n",
            "Name: Gene, dtype: object\n"
          ]
        }
      ],
      "source": [
        "cho_data = pd.read_csv('../dataset/Cho_Ours.txt', sep='\\t')\n",
        "cho_genes = cho_data.iloc[:, 0]\n",
        "\n",
        "kegg_data = pd.read_csv('../dataset/Kegg_Subcluster.txt', sep='\\t')\n",
        "kegg_genes = kegg_data.iloc[:, 0]\n",
        "\n",
        "cho_genes_in_kegg = cho_genes.isin(kegg_genes)\n",
        "cho_genes_not_in_kegg = cho_genes[~cho_genes_in_kegg]\n",
        "missing_genes_count = cho_genes_not_in_kegg.count()\n",
        "print(\"Are all cho_genes present in kegg_genes?\", cho_genes_in_kegg.all())\n",
        "print(\"Number of missing genes in kegg_genes:\", missing_genes_count)\n",
        "print(cho_genes_not_in_kegg)"
      ]
    }
  ],
  "metadata": {
    "kernelspec": {
      "display_name": "Python 3",
      "language": "python",
      "name": "python3"
    },
    "language_info": {
      "codemirror_mode": {
        "name": "ipython",
        "version": 3
      },
      "file_extension": ".py",
      "mimetype": "text/x-python",
      "name": "python",
      "nbconvert_exporter": "python",
      "pygments_lexer": "ipython3",
      "version": "3.12.0"
    }
  },
  "nbformat": 4,
  "nbformat_minor": 2
}
