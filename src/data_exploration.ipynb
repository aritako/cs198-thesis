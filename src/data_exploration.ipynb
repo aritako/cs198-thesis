{
  "cells": [
    {
      "cell_type": "markdown",
      "metadata": {},
      "source": [
        "# Install Dependencies"
      ]
    },
    {
      "cell_type": "code",
      "execution_count": null,
      "metadata": {},
      "outputs": [],
      "source": [
        "import pandas as pd\n",
        "from sklearn.metrics import pair_confusion_matrix\n",
        "import numpy as np"
      ]
    },
    {
      "cell_type": "markdown",
      "metadata": {},
      "source": [
        "# Data Exploration"
      ]
    },
    {
      "cell_type": "markdown",
      "metadata": {},
      "source": [
        "### Checking if Cho is a proper subset of KEGG"
      ]
    },
    {
      "cell_type": "code",
      "execution_count": null,
      "metadata": {},
      "outputs": [
        {
          "name": "stdout",
          "output_type": "stream",
          "text": [
            "Are all cho_genes present in kegg_genes? False\n",
            "Number of missing genes in kegg_genes: 21\n",
            "18     YLR273c\n",
            "34     YKL042w\n",
            "39     YNL225c\n",
            "43     YLR313c\n",
            "44     YGR041w\n",
            "61     YJL173c\n",
            "80     YMR179w\n",
            "85     YDL227c\n",
            "86     YNL173c\n",
            "101    YMR198w\n",
            "103    YDR356w\n",
            "111    YDL197c\n",
            "123    YIR017c\n",
            "130    YKL049c\n",
            "131    YCL014w\n",
            "132    YOR188w\n",
            "140    YLR014c\n",
            "150    YBR138c\n",
            "154    YJR092w\n",
            "155    YLR353w\n",
            "168    YDL048c\n",
            "Name: Gene, dtype: object\n"
          ]
        }
      ],
      "source": [
        "\n",
        "\n",
        "\n",
        "cho_data = pd.read_csv('../dataset/Cho_Ours.txt', sep='\\t')\n",
        "cho_genes = cho_data.iloc[:, 0]\n",
        "\n",
        "kegg_data = pd.read_csv('../dataset/Kegg_Subcluster.txt', sep='\\t')\n",
        "kegg_genes = kegg_data.iloc[:, 0]\n",
        "\n",
        "cho_genes_in_kegg = cho_genes.isin(kegg_genes)\n",
        "cho_genes_not_in_kegg = cho_genes[~cho_genes_in_kegg]\n",
        "missing_genes_count = cho_genes_not_in_kegg.count()\n",
        "print(\"Are all cho_genes present in kegg_genes?\", cho_genes_in_kegg.all())\n",
        "print(\"Number of missing genes in kegg_genes:\", missing_genes_count)\n",
        "print(cho_genes_not_in_kegg)"
      ]
    },
    {
      "cell_type": "markdown",
      "metadata": {},
      "source": [
        "# Formulation of the Modified Rand Index"
      ]
    },
    {
      "cell_type": "code",
      "execution_count": null,
      "metadata": {},
      "outputs": [],
      "source": [
        "import itertools\n",
        "\n",
        "def modified_rand_score(labels_true, labels_pred, nodes_true_list, nodes_pred_list):\n",
        "    \"\"\"\n",
        "    Compute the Modified Rand Index (MRI), an extension of the Rand Index\n",
        "    that accounts for missing elements between partitions.\n",
        "\n",
        "    Parameters\n",
        "    ----------\n",
        "    labels_true : list\n",
        "        True labels corresponding to the nodes.\n",
        "    labels_pred : list\n",
        "        Predicted labels corresponding to the nodes.\n",
        "    nodes_true_list : list\n",
        "        An ordered list of nodes corresponding to labels_true.\n",
        "    nodes_pred_list : list\n",
        "        An ordered list of nodes corresponding to labels_pred.\n",
        "\n",
        "    Returns\n",
        "    -------\n",
        "    mri : float\n",
        "        The Modified Rand Index score.\n",
        "    \"\"\"\n",
        "\n",
        "    n = len(labels_true)\n",
        "    total_pairs = n * (n - 1) // 2  # All possible unique node pairs\n",
        "    n_00, n_11, n_xx = 0, 0, 0  # Initialize counts\n",
        "\n",
        "    # Convert lists to sets for fast lookup\n",
        "    nodes_true_set = set(nodes_true_list)\n",
        "    nodes_pred_set = set(nodes_pred_list)\n",
        "\n",
        "    # Identify common nodes between the two partitions\n",
        "    common_nodes = nodes_true_set.intersection(nodes_pred_set)\n",
        "\n",
        "    # Iterate over all node pairs\n",
        "    for i, j in itertools.combinations(range(n), 2):  # Iterate over all unique pairs\n",
        "        node_i, node_j = nodes_true_list[i], nodes_true_list[j]\n",
        "\n",
        "        # If either node is missing from the common set, count this pair as n_xx.\n",
        "        if node_i not in common_nodes or node_j not in common_nodes:\n",
        "            n_xx += 1\n",
        "        else:\n",
        "            same_true = (labels_true[i] == labels_true[j])\n",
        "            same_pred = (labels_pred[i] == labels_pred[j])\n",
        "            if same_true and same_pred:\n",
        "                n_11 += 1  # Agreeing pair (same in both)\n",
        "            elif not same_true and not same_pred:\n",
        "                n_00 += 1  # Agreeing pair (different in both)\n",
        "\n",
        "    # Compute MRI Score\n",
        "    if total_pairs == 0:\n",
        "        return 1.0  # Perfect match in trivial cases\n",
        "\n",
        "    MRI = (n_00 + n_11 + n_xx) / total_pairs\n",
        "    return MRI"
      ]
    }
  ],
  "metadata": {
    "kernelspec": {
      "display_name": "Python 3",
      "language": "python",
      "name": "python3"
    },
    "language_info": {
      "codemirror_mode": {
        "name": "ipython",
        "version": 3
      },
      "file_extension": ".py",
      "mimetype": "text/x-python",
      "name": "python",
      "nbconvert_exporter": "python",
      "pygments_lexer": "ipython3",
      "version": "3.12.3"
    }
  },
  "nbformat": 4,
  "nbformat_minor": 2
}
