{
  "cells": [
    {
      "cell_type": "markdown",
      "metadata": {},
      "source": [
        "# Install Dependencies"
      ]
    },
    {
      "cell_type": "code",
      "execution_count": 1,
      "metadata": {},
      "outputs": [],
      "source": [
        "import pandas as pd\n",
        "import numpy as np\n",
        "import re\n",
        "\n",
        "from sklearn.metrics.cluster import pair_confusion_matrix\n",
        "from collections import Counter"
      ]
    },
    {
      "cell_type": "code",
      "execution_count": 2,
      "metadata": {},
      "outputs": [
        {
          "name": "stdout",
          "output_type": "stream",
          "text": [
            "Requirement already satisfied: openpyxl in c:\\users\\calvs\\appdata\\local\\programs\\python\\python312\\lib\\site-packages (3.1.5)\n",
            "Requirement already satisfied: et-xmlfile in c:\\users\\calvs\\appdata\\local\\programs\\python\\python312\\lib\\site-packages (from openpyxl) (2.0.0)\n",
            "Note: you may need to restart the kernel to use updated packages.\n"
          ]
        }
      ],
      "source": [
        "%pip install openpyxl"
      ]
    },
    {
      "cell_type": "markdown",
      "metadata": {},
      "source": [
        "# Data Exploration"
      ]
    },
    {
      "cell_type": "markdown",
      "metadata": {},
      "source": [
        "### Checking if Cho is a proper subset of KEGG"
      ]
    },
    {
      "cell_type": "code",
      "execution_count": 3,
      "metadata": {},
      "outputs": [
        {
          "name": "stdout",
          "output_type": "stream",
          "text": [
            "Are all cho_genes present in kegg_genes? False\n",
            "Number of missing genes in kegg_genes: 21\n",
            "18     YLR273c\n",
            "34     YKL042w\n",
            "39     YNL225c\n",
            "43     YLR313c\n",
            "44     YGR041w\n",
            "61     YJL173c\n",
            "80     YMR179w\n",
            "85     YDL227c\n",
            "86     YNL173c\n",
            "101    YMR198w\n",
            "103    YDR356w\n",
            "111    YDL197c\n",
            "123    YIR017c\n",
            "130    YKL049c\n",
            "131    YCL014w\n",
            "132    YOR188w\n",
            "140    YLR014c\n",
            "150    YBR138c\n",
            "154    YJR092w\n",
            "155    YLR353w\n",
            "168    YDL048c\n",
            "Name: Gene, dtype: object\n"
          ]
        }
      ],
      "source": [
        "cho_data = pd.read_csv('../dataset/Cho_Ours.txt', sep='\\t')\n",
        "cho_genes = cho_data.iloc[:, 0]\n",
        "\n",
        "kegg_data = pd.read_csv('../dataset/Kegg_Subcluster.txt', sep='\\t')\n",
        "kegg_genes = kegg_data.iloc[:, 0]\n",
        "\n",
        "cho_genes_in_kegg = cho_genes.isin(kegg_genes)\n",
        "cho_genes_not_in_kegg = cho_genes[~cho_genes_in_kegg]\n",
        "missing_genes_count = cho_genes_not_in_kegg.count()\n",
        "print(\"Are all cho_genes present in kegg_genes?\", cho_genes_in_kegg.all())\n",
        "print(\"Number of missing genes in kegg_genes:\", missing_genes_count)\n",
        "print(cho_genes_not_in_kegg)"
      ]
    },
    {
      "cell_type": "markdown",
      "metadata": {},
      "source": [
        "# Formulation of the Modified Rand Index"
      ]
    },
    {
      "cell_type": "code",
      "execution_count": null,
      "metadata": {},
      "outputs": [],
      "source": [
        "def modified_rand_score(labels_true, labels_pred):\n",
        "    \"\"\"\n",
        "    Computes the Modified Rand Index (MRI), an extension of the Rand Index\n",
        "    that accounts for missing elements between partitions.\n",
        "    \n",
        "    Parameters:\n",
        "    - labels_true: array-like, shape (n_samples,)\n",
        "      Ground truth labels (e.g., KEGG or Cho dataset).\n",
        "      \n",
        "    - labels_pred: array-like, shape (n_samples,)\n",
        "      Predicted labels from a clustering algorithm.\n",
        "\n",
        "    Returns:\n",
        "    - MRI: float\n",
        "      A similarity score between 0.0 and 1.0, where higher values indicate better alignment.\n",
        "    \"\"\"\n",
        "    \n",
        "    # Compute confusion matrix components\n",
        "    contingency = pair_confusion_matrix(labels_true, labels_pred)\n",
        "    \n",
        "    # Extract agreement and disagreement values\n",
        "    n_00, n_01, n_10, n_11 = contingency.ravel()\n",
        "    \n",
        "    # Compute n_xx (pairs where at least one node is missing in one partition)\n",
        "    total_nodes_true = len(set(labels_true))  # Unique classes in true labels\n",
        "    total_nodes_pred = len(set(labels_pred))  # Unique classes in predicted labels\n",
        "    missing_pairs = abs(total_nodes_true - total_nodes_pred) * (abs(total_nodes_true - total_nodes_pred) - 1) / 2\n",
        "    n_xx = int(missing_pairs)\n",
        "\n",
        "    # Compute total pairs\n",
        "    total_pairs = n_00 + n_11 + n_01 + n_10 + n_xx\n",
        "\n",
        "    # Compute MRI score\n",
        "    if total_pairs == 0:\n",
        "        return 1.0  # Perfect match in trivial cases\n",
        "\n",
        "    MRI = (n_00 + n_11 + n_xx) / total_pairs\n",
        "    return MRI"
      ]
    },
    {
      "cell_type": "markdown",
      "metadata": {},
      "source": [
        "# Comparing KEGG and Cho (RI, ARI, MRI)"
      ]
    },
    {
      "cell_type": "markdown",
      "metadata": {},
      "source": [
        "## Importing the necessary metrics from sklearn"
      ]
    },
    {
      "cell_type": "code",
      "execution_count": 5,
      "metadata": {},
      "outputs": [],
      "source": [
        "from sklearn.metrics.cluster import rand_score, adjusted_rand_score"
      ]
    },
    {
      "cell_type": "markdown",
      "metadata": {},
      "source": [
        "## Forming the KEGG groupings"
      ]
    },
    {
      "cell_type": "code",
      "execution_count": 6,
      "metadata": {},
      "outputs": [
        {
          "name": "stdout",
          "output_type": "stream",
          "text": [
            "        Gene               Grouping  Level_1         Level_2  \\\n",
            "0    YDL179w  [09140, 09143, 04111]  [09140]  [09140, 09143]   \n",
            "1    YLR079w  [09130, 09132, 04011]  [09130]  [09130, 09132]   \n",
            "2    YER111c  [09130, 09132, 04011]  [09130]  [09130, 09132]   \n",
            "3    YBR200w  [09130, 09132, 04011]  [09130]  [09130, 09132]   \n",
            "4    YJL194w  [09140, 09143, 04111]  [09140]  [09140, 09143]   \n",
            "..       ...                    ...      ...             ...   \n",
            "144  YNL053w  [09130, 09132, 04011]  [09130]  [09130, 09132]   \n",
            "145  YKL130C  [09180, 09182, 03019]  [09180]  [09180, 09182]   \n",
            "146  YIL162w  [09100, 09101, 00052]  [09100]  [09100, 09101]   \n",
            "147  YDL138W  [09140, 09143, 04113]  [09140]  [09140, 09143]   \n",
            "148  YGR143w  [09180, 09182, 04131]  [09180]  [09180, 09182]   \n",
            "\n",
            "                   Level_3  \n",
            "0    [09140, 09143, 04111]  \n",
            "1    [09130, 09132, 04011]  \n",
            "2    [09130, 09132, 04011]  \n",
            "3    [09130, 09132, 04011]  \n",
            "4    [09140, 09143, 04111]  \n",
            "..                     ...  \n",
            "144  [09130, 09132, 04011]  \n",
            "145  [09180, 09182, 03019]  \n",
            "146  [09100, 09101, 00052]  \n",
            "147  [09140, 09143, 04113]  \n",
            "148  [09180, 09182, 04131]  \n",
            "\n",
            "[149 rows x 5 columns]\n",
            "Number of genes after filtering: 149\n",
            "Number of unique groupings in Level 1: 6\n",
            "Number of unique groupings in Level 2: 20\n",
            "Number of unique groupings in Level 3: 49\n"
          ]
        }
      ],
      "source": [
        "# Read the Excel file\n",
        "mdf = pd.read_excel('../dataset/for_groupings.xlsx', skiprows=0)\n",
        "\n",
        "# Extract IDs\n",
        "grouping = []\n",
        "for gene, item in zip(mdf.iloc[:, 0].tolist(), mdf.iloc[:, 2].tolist()):\n",
        "    IDs = re.findall(r'\\b(\\d{5}|\\b(?![a-zA-Z]{7})\\w{7}\\b)\\b', item)\n",
        "    grouping.append({'Gene': gene, 'Grouping': IDs})\n",
        "\n",
        "# Process grouping to remove entries following the first occurrence of a 7-character ID\n",
        "for entry in grouping:\n",
        "    IDs = entry['Grouping']\n",
        "    for i, ID in enumerate(IDs):\n",
        "        if len(ID) == 7:\n",
        "            entry['Grouping'] = IDs[:i]  # Keep only IDs up to the first 7-character ID\n",
        "            break\n",
        "\n",
        "# Remove rows with empty\n",
        "grouping = [entry for entry in grouping if entry['Grouping']]\n",
        "\n",
        "# Create DataFrame from list of dictionaries\n",
        "df_grouping_kegg = pd.DataFrame(grouping)\n",
        "\n",
        "# Adding columns for each level of the IDs\n",
        "max_levels = max(len(ids) for ids in df_grouping_kegg['Grouping'])\n",
        "for i in range(max_levels):\n",
        "    level_column_name = f'Level_{i+1}'\n",
        "    df_grouping_kegg[level_column_name] = df_grouping_kegg['Grouping'].apply(lambda x: x[:i+1] if len(x) > i else None)\n",
        "\n",
        "df_grouping_kegg.to_excel('output_grouping_kegg.xlsx', index=False)\n",
        "\n",
        "print(df_grouping_kegg)\n",
        "print(f\"Number of genes after filtering: {len(grouping)}\")\n",
        "print(f\"Number of unique groupings in Level 1: {len(df_grouping_kegg['Level_1'].value_counts())}\")\n",
        "print(f\"Number of unique groupings in Level 2: {len(df_grouping_kegg['Level_2'].value_counts())}\")\n",
        "print(f\"Number of unique groupings in Level 3: {len(df_grouping_kegg['Level_3'].value_counts())}\")"
      ]
    },
    {
      "cell_type": "code",
      "execution_count": 7,
      "metadata": {},
      "outputs": [
        {
          "name": "stdout",
          "output_type": "stream",
          "text": [
            "{'YDL179w': ['09140', '09143', '04111'], 'YLR079w': ['09130', '09132', '04011'], 'YER111c': ['09130', '09132', '04011'], 'YBR200w': ['09130', '09132', '04011'], 'YJL194w': ['09140', '09143', '04111'], 'YLR274w': ['09120', '09124', '03030'], 'YBR202w': ['09120', '09124', '03030'], 'YPR019w': ['09120', '09124', '03030'], 'YBL023c': ['09120', '09124', '03030'], 'YEL032w': ['09120', '09124', '03030'], 'YJL157c': ['09130', '09132', '04011'], 'YKL185w': ['09180', '09182', '03000'], 'YHR005c': ['09130', '09132', '04011'], 'YLR395c': ['09100', '09102', '00190'], 'YDL181w': ['09180', '09182', '04131'], 'YGR183c': ['09100', '09102', '00190'], 'YLR258w': ['09100', '09101', '00500'], 'YML110c': ['09100', '09108', '00130'], 'YCR005c': ['09100', '09101', '00020'], 'YCL040w': ['09100', '09101', '00010'], 'YMR256c': ['09100', '09102', '00190'], 'YIL009w': ['09100', '09103', '00061'], 'YLL040c': ['09180', '09182', '04131'], 'YNR016c': ['09100', '09101', '00620'], 'YGR109c': ['09130', '09132', '04011'], 'YPR120c': ['09130', '09132', '04011'], 'YDL127w': ['09140', '09143', '04111'], 'YNL289w': ['09140', '09143', '04111'], 'YPL256c': ['09130', '09132', '04011'], 'YMR199w': ['09130', '09132', '04011'], 'YJL187c': ['09130', '09132', '04011'], 'YDL003w': ['09140', '09143', '04111'], 'YMR076c': ['09180', '09182', '03036'], 'YFL008w': ['09140', '09143', '04111'], 'YPL241c': ['09180', '09183', '04812'], 'YMR078c': ['09180', '09182', '03036'], 'YLR212c': ['09140', '09142', '04814'], 'YPL209c': ['09180', '09181', '01001'], 'YJL074c': ['09140', '09143', '04111'], 'YNL233w': ['09180', '09183', '04812'], 'YGR152c': ['09180', '09183', '04147'], 'YDR507c': ['09140', '09143', '04111'], 'YLR286c': ['09100', '09101', '00520'], 'YIL159w': ['09130', '09132', '04011'], 'YGL027c': ['09100', '09107', '00510'], 'YML102w': ['09180', '09182', '03036'], 'YPR018w': ['09180', '09182', '03036'], 'YBL035c': ['09120', '09124', '03030'], 'YNL102w': ['09120', '09124', '03030'], 'YBR278w': ['09120', '09124', '03030'], 'YPR175w': ['09120', '09124', '03030'], 'YNL262w': ['09120', '09124', '03030'], 'YBR088c': ['09120', '09124', '03030'], 'YLR103c': ['09140', '09143', '04111'], 'YAR007c': ['09120', '09124', '03030'], 'YNL312w': ['09120', '09124', '03030'], 'YER070w': ['09100', '09104', '00230'], 'YOR074c': ['09100', '09104', '00240'], 'YDL164c': ['09120', '09124', '03030'], 'YKL045w': ['09120', '09124', '03030'], 'YBR252w': ['09100', '09104', '00240'], 'YLR032w': ['09180', '09182', '03400'], 'YML060w': ['09120', '09124', '03410'], 'YDR097c': ['09120', '09124', '03430'], 'YNL082w': ['09120', '09124', '03430'], 'YOL090w': ['09120', '09124', '03430'], 'YLR383w': ['09180', '09182', '03400'], 'YKL113c': ['09120', '09124', '03030'], 'YLR234w': ['09120', '09124', '03440'], 'YPL153c': ['09140', '09143', '04111'], 'YDL101c': ['09140', '09143', '04111'], 'YHR038W': ['09180', '09182', '03012'], 'YML021C': ['09120', '09124', '03410'], 'YML061c': ['09180', '09182', '03032'], 'YML027w': ['09140', '09143', '04111'], 'YPL127c': ['09180', '09182', '03036'], 'YGL089c': ['09130', '09132', '04011'], 'YPL187w': ['09130', '09132', '04011'], 'YLL021w': ['09130', '09132', '04011'], 'YLR382c': ['09120', '09122', '00970'], 'YJL196c': ['09100', '09103', '00062'], 'YJR148w': ['09100', '09105', '00270'], 'YOR317w': ['09100', '09103', '00061'], 'YDR113c': ['09140', '09143', '04111'], 'YNL126w': ['09180', '09182', '03036'], 'YEL061c': ['09140', '09142', '04814'], 'YHR172w': ['09180', '09182', '03036'], 'YPR141c': ['09140', '09142', '04814'], 'YLR045c': ['09180', '09182', '03036'], 'YGR140w': ['09180', '09182', '03036'], 'YBL063w': ['09140', '09142', '04814'], 'YDR488c': ['09140', '09141', '04145'], 'YOR026w': ['09140', '09143', '04111'], 'YIL140w': ['09180', '09183', '04812'], 'YKL067w': ['09100', '09104', '00230'], 'YJR006w': ['09120', '09124', '03030'], 'YBL003c': ['09120', '09126', '03082'], 'YBL002w': ['09180', '09182', '03036'], 'YMR190c': ['09120', '09124', '03440'], 'YJL115w': ['09180', '09182', '03036'], 'YCR065w': ['09180', '09182', '03000'], 'YPL016w': ['09180', '09182', '03021'], 'YBL052c': ['09180', '09182', '03036'], 'YBR275c': ['09180', '09182', '03032'], 'YIL126w': ['09180', '09182', '03021'], 'YFR037c': ['09180', '09182', '03021'], 'YKL127W': ['09100', '09101', '00010'], 'YAR008w': ['09180', '09182', '03016'], 'YER001w': ['09100', '09107', '00513'], 'YER003c': ['09100', '09101', '00051'], 'YDL093w': ['09100', '09107', '00515'], 'YKR001c': ['09180', '09182', '04131'], 'YDL095w': ['09100', '09107', '00515'], 'YNL073w': ['09120', '09122', '00970'], 'YIL050w': ['09190', '09191', '99981'], 'YIL106w': ['09130', '09132', '04392'], 'YBL097w': ['09140', '09143', '04111'], 'YJR076c': ['09180', '09183', '04812'], 'YJL099w': ['09180', '09182', '04131'], 'YKL048c': ['09140', '09141', '04138'], 'YBR038w': ['09100', '09101', '00520'], 'YJL092w': ['09120', '09124', '03420'], 'YCR084c': ['09130', '09132', '04011'], 'YGL255w': ['09180', '09183', '02000'], 'YJL137c': ['09100', '09101', '00500'], 'YOR274w': ['09180', '09181', '01006'], 'YBR104w': ['09180', '09183', '02000'], 'YGR108w': ['09130', '09132', '04011'], 'YPR119w': ['09130', '09132', '04011'], 'YAL040c': ['09140', '09143', '04111'], 'YGL116w': ['09120', '09123', '04120'], 'YOL069w': ['09180', '09182', '03036'], 'YGR092w': ['09130', '09132', '04392'], 'YOR058c': ['09180', '09182', '03036'], 'YHR023w': ['09140', '09142', '04814'], 'YPL242C': ['09180', '09183', '04812'], 'YCL037C': ['09180', '09182', '03019'], 'YMR001c': ['09140', '09143', '04111'], 'YGL021w': ['09180', '09181', '01001'], 'YCR042c': ['09120', '09121', '03022'], 'YOR025w': ['09100', '09108', '00760'], 'YOR229w': ['09180', '09182', '03036'], 'YDR146c': ['09140', '09143', '04111'], 'YLR131c': ['09180', '09182', '03000'], 'YNL053w': ['09130', '09132', '04011'], 'YKL130C': ['09180', '09182', '03019'], 'YIL162w': ['09100', '09101', '00052'], 'YDL138W': ['09140', '09143', '04113'], 'YGR143w': ['09180', '09182', '04131']}\n",
            "149\n"
          ]
        }
      ],
      "source": [
        "# Create dictionary\n",
        "gene_grouping_kegg = {gene: grouping for gene, grouping in zip(df_grouping_kegg['Gene'], df_grouping_kegg['Grouping'])}\n",
        "\n",
        "print(gene_grouping_kegg)\n",
        "print(len(gene_grouping_kegg))"
      ]
    },
    {
      "cell_type": "markdown",
      "metadata": {},
      "source": [
        "## Forming the Cho groupings"
      ]
    },
    {
      "cell_type": "code",
      "execution_count": 8,
      "metadata": {},
      "outputs": [
        {
          "name": "stdout",
          "output_type": "stream",
          "text": [
            "        Gene Grouping Level_1 Level_2\n",
            "0    YDL179w  [1, 11]       1      11\n",
            "1    YLR079w  [1, 11]       1      11\n",
            "2    YER111c  [1, 11]       1      11\n",
            "3    YBR200w  [1, 12]       1      12\n",
            "4    YJL194w  [1, 13]       1      13\n",
            "..       ...      ...     ...     ...\n",
            "144  YNL053w  [5, 57]       5      57\n",
            "145  YKL130C  [5, 57]       5      57\n",
            "146  YIL162w  [5, 58]       5      58\n",
            "147  YDL138W  [5, 58]       5      58\n",
            "148  YGR143w  [5, 59]       5      59\n",
            "\n",
            "[149 rows x 4 columns]\n",
            "Number of genes after filtering: 149\n",
            "Number of unique groupings in Level 1: 5\n",
            "Number of unique groupings in Level 2: 37\n"
          ]
        }
      ],
      "source": [
        "# Read the Excel file\n",
        "mdf = pd.read_excel('../dataset/for_groupings.xlsx')\n",
        "\n",
        "# Extract Gene, Level_1, and Level_2 columns\n",
        "df_grouping_cho = mdf.iloc[:, [0, 5, 6]].copy()  # Create a copy to avoid modifying the original DataFrame\n",
        "\n",
        "# Rename the columns\n",
        "df_grouping_cho.columns = ['Gene', 'Level_1', 'Level_2']\n",
        "\n",
        "# Treat Level_1 and Level_2 columns as strings\n",
        "df_grouping_cho['Level_1'] = df_grouping_cho['Level_1'].astype(str)\n",
        "df_grouping_cho['Level_2'] = df_grouping_cho['Level_2'].astype(str)\n",
        "\n",
        "# Merge Level_1 and Level_2 columns into a single Grouping column\n",
        "df_grouping_cho['Grouping'] = df_grouping_cho[['Level_1', 'Level_2']].apply(list, axis=1)\n",
        "\n",
        "# Filter out rows with similar elements in the groupings: no subcluster if similar\n",
        "def has_duplicate_elements(grouping):\n",
        "    element_counts = Counter(grouping)\n",
        "    return any(count > 1 for count in element_counts.values())\n",
        "\n",
        "df_grouping_cho = df_grouping_cho[~df_grouping_cho['Grouping'].apply(has_duplicate_elements)]\n",
        "\n",
        "# Reorder columns\n",
        "df_grouping_cho = df_grouping_cho[['Gene', 'Grouping', 'Level_1', 'Level_2']]\n",
        "\n",
        "df_grouping_cho.reset_index(drop=True, inplace=True)\n",
        "\n",
        "df_grouping_kegg.to_excel('output_grouping_cho.xlsx', index=False)\n",
        "\n",
        "print(df_grouping_cho)\n",
        "print(f\"Number of genes after filtering: {len(df_grouping_cho)}\")\n",
        "print(f\"Number of unique groupings in Level 1: {len(df_grouping_cho['Level_1'].value_counts())}\")\n",
        "print(f\"Number of unique groupings in Level 2: {len(df_grouping_cho['Level_2'].value_counts())}\")"
      ]
    },
    {
      "cell_type": "code",
      "execution_count": 9,
      "metadata": {},
      "outputs": [
        {
          "name": "stdout",
          "output_type": "stream",
          "text": [
            "{'YDL179w': ['1', '11'], 'YLR079w': ['1', '11'], 'YER111c': ['1', '11'], 'YBR200w': ['1', '12'], 'YJL194w': ['1', '13'], 'YLR274w': ['1', '13'], 'YBR202w': ['1', '13'], 'YPR019w': ['1', '13'], 'YBL023c': ['1', '13'], 'YEL032w': ['1', '13'], 'YJL157c': ['1', '14'], 'YKL185w': ['1', '14'], 'YHR005c': ['1', '14'], 'YLR395c': ['1', '15'], 'YDL181w': ['1', '15'], 'YGR183c': ['1', '15'], 'YLR258w': ['1', '15'], 'YML110c': ['1', '15'], 'YCR005c': ['1', '15'], 'YCL040w': ['1', '15'], 'YMR256c': ['1', '15'], 'YIL009w': ['1', '16'], 'YLL040c': ['1', '16'], 'YNR016c': ['1', '16'], 'YGR109c': ['2', '21'], 'YPR120c': ['2', '21'], 'YDL127w': ['2', '21'], 'YNL289w': ['2', '21'], 'YPL256c': ['2', '21'], 'YMR199w': ['2', '21'], 'YJL187c': ['2', '21'], 'YDL003w': ['2', '22'], 'YMR076c': ['2', '22'], 'YFL008w': ['2', '22'], 'YPL241c': ['2', '22'], 'YMR078c': ['2', '22'], 'YLR212c': ['2', '22'], 'YPL209c': ['2', '22'], 'YJL074c': ['2', '22'], 'YNL233w': ['2', '23'], 'YGR152c': ['2', '23'], 'YDR507c': ['2', '23'], 'YLR286c': ['2', '23'], 'YIL159w': ['2', '23'], 'YGL027c': ['2', '23'], 'YML102w': ['2', '24'], 'YPR018w': ['2', '24'], 'YBL035c': ['2', '24'], 'YNL102w': ['2', '24'], 'YBR278w': ['2', '24'], 'YPR175w': ['2', '24'], 'YNL262w': ['2', '24'], 'YBR088c': ['2', '24'], 'YLR103c': ['2', '24'], 'YAR007c': ['2', '24'], 'YNL312w': ['2', '24'], 'YER070w': ['2', '24'], 'YOR074c': ['2', '24'], 'YDL164c': ['2', '24'], 'YKL045w': ['2', '24'], 'YBR252w': ['2', '24'], 'YLR032w': ['2', '25'], 'YML060w': ['2', '25'], 'YDR097c': ['2', '25'], 'YNL082w': ['2', '25'], 'YOL090w': ['2', '25'], 'YLR383w': ['2', '25'], 'YKL113c': ['2', '25'], 'YLR234w': ['2', '25'], 'YPL153c': ['2', '25'], 'YDL101c': ['2', '25'], 'YHR038W': ['2', '25'], 'YML021C': ['2', '25'], 'YML061c': ['2', '25'], 'YML027w': ['2', '26'], 'YPL127c': ['2', '26'], 'YGL089c': ['2', '27'], 'YPL187w': ['2', '27'], 'YLL021w': ['2', '27'], 'YLR382c': ['2', '28'], 'YJL196c': ['2', '29'], 'YJR148w': ['2', '29'], 'YOR317w': ['2', '29'], 'YDR113c': ['3', '32'], 'YNL126w': ['3', '32'], 'YEL061c': ['3', '32'], 'YHR172w': ['3', '32'], 'YPR141c': ['3', '32'], 'YLR045c': ['3', '32'], 'YGR140w': ['3', '32'], 'YBL063w': ['3', '32'], 'YDR488c': ['3', '32'], 'YOR026w': ['3', '32'], 'YIL140w': ['3', '33'], 'YKL067w': ['3', '34'], 'YJR006w': ['3', '34'], 'YBL003c': ['3', '34'], 'YBL002w': ['3', '34'], 'YMR190c': ['3', '35'], 'YJL115w': ['3', '36'], 'YCR065w': ['3', '36'], 'YPL016w': ['3', '36'], 'YBL052c': ['3', '36'], 'YBR275c': ['3', '36'], 'YIL126w': ['3', '36'], 'YFR037c': ['3', '36'], 'YKL127W': ['3', '37'], 'YAR008w': ['3', '38'], 'YER001w': ['3', '38'], 'YER003c': ['3', '38'], 'YDL093w': ['3', '38'], 'YKR001c': ['3', '38'], 'YDL095w': ['3', '38'], 'YNL073w': ['3', '38'], 'YIL050w': ['4', '41'], 'YIL106w': ['4', '42'], 'YBL097w': ['4', '42'], 'YJR076c': ['4', '43'], 'YJL099w': ['4', '43'], 'YKL048c': ['4', '43'], 'YBR038w': ['4', '43'], 'YJL092w': ['4', '45'], 'YCR084c': ['4', '46'], 'YGL255w': ['4', '48'], 'YJL137c': ['4', '48'], 'YOR274w': ['4', '48'], 'YBR104w': ['4', '48'], 'YGR108w': ['5', '51'], 'YPR119w': ['5', '51'], 'YAL040c': ['5', '51'], 'YGL116w': ['5', '51'], 'YOL069w': ['5', '52'], 'YGR092w': ['5', '52'], 'YOR058c': ['5', '52'], 'YHR023w': ['5', '52'], 'YPL242C': ['5', '52'], 'YCL037C': ['5', '53'], 'YMR001c': ['5', '54'], 'YGL021w': ['5', '55'], 'YCR042c': ['5', '56'], 'YOR025w': ['5', '56'], 'YOR229w': ['5', '56'], 'YDR146c': ['5', '56'], 'YLR131c': ['5', '56'], 'YNL053w': ['5', '57'], 'YKL130C': ['5', '57'], 'YIL162w': ['5', '58'], 'YDL138W': ['5', '58'], 'YGR143w': ['5', '59']}\n",
            "149\n"
          ]
        }
      ],
      "source": [
        "# Create dictionary\n",
        "gene_grouping_cho = {gene: grouping for gene, grouping in zip(df_grouping_cho['Gene'], df_grouping_cho['Grouping'])}\n",
        "\n",
        "print(gene_grouping_cho)\n",
        "print(len(gene_grouping_cho))"
      ]
    },
    {
      "cell_type": "markdown",
      "metadata": {},
      "source": [
        "## RI, MRI, and ARI comparison"
      ]
    },
    {
      "cell_type": "code",
      "execution_count": 11,
      "metadata": {},
      "outputs": [
        {
          "name": "stdout",
          "output_type": "stream",
          "text": [
            "   KEGG Level  CHO Level        RI       ARI       MRI\n",
            "0           1          1  0.653909  0.022699  0.653909\n",
            "1           1          2  0.787412  0.083272  0.791802\n",
            "2           2          1  0.707237  0.057357  0.708625\n",
            "3           2          2  0.866135  0.118445  0.866955\n",
            "4           3          1  0.734264  0.043423  0.745195\n",
            "5           3          2  0.922728  0.156492  0.922959\n"
          ]
        }
      ],
      "source": [
        "# Function to calculate the metric scores for different levels of groupings\n",
        "def calculate_ari(kegg, cho, level_kegg, level_cho):\n",
        "    kegg_labels = [value[level_kegg] for value in kegg.values()]\n",
        "    cho_labels = [value[level_cho] for value in cho.values()]\n",
        "\n",
        "    # print(kegg_labels)\n",
        "    # print(cho_labels)\n",
        "\n",
        "    ri = rand_score(kegg_labels, cho_labels)\n",
        "    ari = adjusted_rand_score(kegg_labels, cho_labels)\n",
        "    mri = modified_rand_score(kegg_labels, cho_labels)\n",
        "    return ri, ari, mri\n",
        "\n",
        "# List to store ARI values\n",
        "ari_values = []\n",
        "\n",
        "# Loop through different levels of KEGG and CHO groupings\n",
        "for level_kegg in range(3):\n",
        "    for level_cho in range(2):\n",
        "        ri, ari, mri = calculate_ari(gene_grouping_kegg, gene_grouping_cho, level_kegg, level_cho)\n",
        "        ari_values.append({'KEGG Level': level_kegg+1, 'CHO Level': level_cho+1, 'RI': ri, 'ARI': ari, 'MRI': mri})\n",
        "\n",
        "# Create DataFrame to store ARI values\n",
        "ari_df = pd.DataFrame(ari_values)\n",
        "\n",
        "# Display DataFrame\n",
        "print(ari_df)"
      ]
    }
  ],
  "metadata": {
    "kernelspec": {
      "display_name": "Python 3",
      "language": "python",
      "name": "python3"
    },
    "language_info": {
      "codemirror_mode": {
        "name": "ipython",
        "version": 3
      },
      "file_extension": ".py",
      "mimetype": "text/x-python",
      "name": "python",
      "nbconvert_exporter": "python",
      "pygments_lexer": "ipython3",
      "version": "3.12.0"
    }
  },
  "nbformat": 4,
  "nbformat_minor": 2
}
