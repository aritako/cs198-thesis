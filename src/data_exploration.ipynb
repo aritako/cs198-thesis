{
  "cells": [
    {
      "cell_type": "markdown",
      "metadata": {},
      "source": [
        "# Install Dependencies"
      ]
    },
    {
      "cell_type": "code",
      "execution_count": 18,
      "metadata": {},
      "outputs": [],
      "source": [
        "import pandas as pd\n",
        "import numpy as np\n",
        "import re\n",
        "\n",
        "from sklearn.metrics.cluster import pair_confusion_matrix\n",
        "from collections import Counter"
      ]
    },
    {
      "cell_type": "code",
      "execution_count": 19,
      "metadata": {},
      "outputs": [
        {
          "name": "stdout",
          "output_type": "stream",
          "text": [
            "Requirement already satisfied: openpyxl in c:\\users\\calvs\\appdata\\local\\programs\\python\\python312\\lib\\site-packages (3.1.5)\n",
            "Requirement already satisfied: et-xmlfile in c:\\users\\calvs\\appdata\\local\\programs\\python\\python312\\lib\\site-packages (from openpyxl) (2.0.0)\n",
            "Note: you may need to restart the kernel to use updated packages.\n"
          ]
        },
        {
          "name": "stderr",
          "output_type": "stream",
          "text": [
            "\n",
            "[notice] A new release of pip is available: 25.0 -> 25.0.1\n",
            "[notice] To update, run: python.exe -m pip install --upgrade pip\n"
          ]
        }
      ],
      "source": [
        "%pip install openpyxl"
      ]
    },
    {
      "cell_type": "markdown",
      "metadata": {},
      "source": [
        "# Data Exploration"
      ]
    },
    {
      "cell_type": "markdown",
      "metadata": {},
      "source": [
        "### Checking if Cho is a proper subset of KEGG"
      ]
    },
    {
      "cell_type": "code",
      "execution_count": 20,
      "metadata": {},
      "outputs": [
        {
          "name": "stdout",
          "output_type": "stream",
          "text": [
            "Are all cho_genes present in kegg_genes? False\n",
            "Number of missing genes in kegg_genes: 21\n",
            "18     YLR273c\n",
            "34     YKL042w\n",
            "39     YNL225c\n",
            "43     YLR313c\n",
            "44     YGR041w\n",
            "61     YJL173c\n",
            "80     YMR179w\n",
            "85     YDL227c\n",
            "86     YNL173c\n",
            "101    YMR198w\n",
            "103    YDR356w\n",
            "111    YDL197c\n",
            "123    YIR017c\n",
            "130    YKL049c\n",
            "131    YCL014w\n",
            "132    YOR188w\n",
            "140    YLR014c\n",
            "150    YBR138c\n",
            "154    YJR092w\n",
            "155    YLR353w\n",
            "168    YDL048c\n",
            "Name: Gene, dtype: object\n"
          ]
        }
      ],
      "source": [
        "cho_data = pd.read_csv('../dataset/sourced/cho_ventures_cleaned.txt', sep='\\t')\n",
        "cho_genes = cho_data.iloc[:, 0]\n",
        "\n",
        "kegg_data = pd.read_csv('../dataset/sourced/kegg_ventures_cleaned.txt', sep='\\t')\n",
        "kegg_genes = kegg_data.iloc[:, 0]\n",
        "\n",
        "cho_genes_in_kegg = cho_genes.isin(kegg_genes)\n",
        "cho_genes_not_in_kegg = cho_genes[~cho_genes_in_kegg]\n",
        "missing_genes_count = cho_genes_not_in_kegg.count()\n",
        "print(\"Are all cho_genes present in kegg_genes?\", cho_genes_in_kegg.all())\n",
        "print(\"Number of missing genes in kegg_genes:\", missing_genes_count)\n",
        "print(cho_genes_not_in_kegg)"
      ]
    },
    {
      "cell_type": "markdown",
      "metadata": {},
      "source": [
        "# Formulation of the Modified Rand Index"
      ]
    },
    {
      "cell_type": "code",
      "execution_count": 21,
      "metadata": {},
      "outputs": [],
      "source": [
        "def modified_rand_score(labels_true, labels_pred):\n",
        "    \"\"\"\n",
        "    Computes the Modified Rand Index (MRI), an extension of the Rand Index\n",
        "    that accounts for missing elements between partitions.\n",
        "    \n",
        "    Parameters:\n",
        "    - labels_true: array-like, shape (n_samples,)\n",
        "      Ground truth labels (e.g., KEGG or Cho dataset).\n",
        "      \n",
        "    - labels_pred: array-like, shape (n_samples,)\n",
        "      Predicted labels from a clustering algorithm.\n",
        "\n",
        "    Returns:\n",
        "    - MRI: float\n",
        "      A similarity score between 0.0 and 1.0, where higher values indicate better alignment.\n",
        "    \"\"\"\n",
        "    \n",
        "    # Compute confusion matrix components\n",
        "    contingency = pair_confusion_matrix(labels_true, labels_pred)\n",
        "    \n",
        "    # Extract agreement and disagreement values\n",
        "    n_00, n_01, n_10, n_11 = contingency.ravel()\n",
        "    \n",
        "    # Compute n_xx (pairs where at least one node is missing in one partition)\n",
        "    total_nodes_true = len(set(labels_true))  # Unique classes in true labels\n",
        "    total_nodes_pred = len(set(labels_pred))  # Unique classes in predicted labels\n",
        "    missing_pairs = abs(total_nodes_true - total_nodes_pred) * (abs(total_nodes_true - total_nodes_pred) - 1) / 2\n",
        "    n_xx = int(missing_pairs)\n",
        "\n",
        "    # Compute total pairs\n",
        "    total_pairs = n_00 + n_11 + n_01 + n_10 + n_xx\n",
        "\n",
        "    # Compute MRI score\n",
        "    if total_pairs == 0:\n",
        "        return 1.0  # Perfect match in trivial cases\n",
        "\n",
        "    MRI = (n_00 + n_11 + n_xx) / total_pairs\n",
        "    return MRI"
      ]
    },
    {
      "cell_type": "markdown",
      "metadata": {},
      "source": [
        "# Comparing KEGG and Cho (RI, ARI, MRI)"
      ]
    },
    {
      "cell_type": "markdown",
      "metadata": {},
      "source": [
        "## Importing the necessary metrics from sklearn"
      ]
    },
    {
      "cell_type": "code",
      "execution_count": 22,
      "metadata": {},
      "outputs": [],
      "source": [
        "from sklearn.metrics.cluster import rand_score, adjusted_rand_score"
      ]
    },
    {
      "cell_type": "markdown",
      "metadata": {},
      "source": [
        "## Forming the KEGG groupings"
      ]
    },
    {
      "cell_type": "code",
      "execution_count": 23,
      "metadata": {},
      "outputs": [
        {
          "data": {
            "text/plain": [
              "{'09140': 'Cellular Processes',\n",
              " '09143': 'Cell growth and death',\n",
              " '04111': 'Cell cycle - yeast',\n",
              " '09130': 'Environmental Information Processing',\n",
              " '09132': 'Signal transduction',\n",
              " '04011': 'MAPK signaling pathway - yeast',\n",
              " '04113': 'Meiosis - yeast',\n",
              " '09180': 'Brite Hierarchies',\n",
              " '09182': 'Protein families: genetic information processing',\n",
              " '03000': 'Transcription factors [BR:sce03000]',\n",
              " '03032': 'DNA replication proteins [BR:sce03032]',\n",
              " '09120': 'Genetic Information Processing',\n",
              " '09124': 'Replication and repair',\n",
              " '03030': 'DNA replication',\n",
              " '03036': 'Chromosome and associated proteins [BR:sce03036]',\n",
              " '09181': 'Protein families: metabolism',\n",
              " '01009': 'Protein phosphatases and associated proteins [BR:sce01009]',\n",
              " '03019': 'Messenger RNA biogenesis [BR:sce03019]',\n",
              " '09183': 'Protein families: signaling and cellular processes',\n",
              " '04031': 'GTP-binding proteins [BR:sce04031]',\n",
              " '09100': 'Metabolism',\n",
              " '09101': 'Carbohydrate metabolism',\n",
              " '00020': 'Citrate cycle (TCA cycle)',\n",
              " '00630': 'Glyoxylate and dicarboxylate metabolism',\n",
              " '00520': 'Amino sugar and nucleotide sugar metabolism',\n",
              " '09102': 'Energy metabolism',\n",
              " '00190': 'Oxidative phosphorylation',\n",
              " '04131': 'Membrane trafficking [BR:sce04131]',\n",
              " '00500': 'Starch and sucrose metabolism',\n",
              " '01003': 'Glycosyltransferases [BR:sce01003]',\n",
              " '09108': 'Metabolism of cofactors and vitamins',\n",
              " '00130': 'Ubiquinone and other terpenoid-quinone biosynthesis',\n",
              " '00010': 'Glycolysis / Gluconeogenesis',\n",
              " '00051': 'Fructose and mannose metabolism',\n",
              " '00052': 'Galactose metabolism',\n",
              " '09110': 'Biosynthesis of other secondary metabolites',\n",
              " '00524': 'Neomycin, kanamycin and gentamicin biosynthesis',\n",
              " '09103': 'Lipid metabolism',\n",
              " '00061': 'Fatty acid biosynthesis',\n",
              " '00071': 'Fatty acid degradation',\n",
              " '09141': 'Transport and catabolism',\n",
              " '04146': 'Peroxisome',\n",
              " '01004': 'Lipid biosynthesis proteins [BR:sce01004]',\n",
              " '04147': 'Exosome [BR:sce04147]',\n",
              " '00620': 'Pyruvate metabolism',\n",
              " '00640': 'Propanoate metabolism',\n",
              " '00254': 'Aflatoxin biosynthesis',\n",
              " '09131': 'Membrane transport',\n",
              " '02010': 'ABC transporters',\n",
              " '02000': 'Transporters [BR:sce02000]',\n",
              " '01040': 'Biosynthesis of unsaturated fatty acids',\n",
              " '09150': 'Organismal Systems',\n",
              " '09154': 'Digestive system',\n",
              " '04977': 'Vitamin digestion and absorption',\n",
              " '04981': 'Folate transport and metabolism',\n",
              " '04392': 'Hippo signaling pathway - multiple species',\n",
              " '09190': 'Not Included in Pathway or Brite',\n",
              " '09191': 'Unclassified: metabolism',\n",
              " '99980': 'Enzymes with EC numbers',\n",
              " '03400': 'DNA repair and recombination proteins [BR:sce03400]',\n",
              " '09192': 'Unclassified: genetic information processing',\n",
              " '99973': 'Transcription',\n",
              " '09193': 'Unclassified: signaling and cellular processes',\n",
              " '99992': 'Structural proteins',\n",
              " '04812': 'Cytoskeleton proteins [BR:sce04812]',\n",
              " '09142': 'Cell motility',\n",
              " '04814': 'Motor proteins',\n",
              " '01001': 'Protein kinases [BR:sce01001]',\n",
              " '00535': 'Proteoglycans [BR:sce00535]',\n",
              " '03029': 'Mitochondrial biogenesis [BR:sce03029]',\n",
              " '09107': 'Glycan biosynthesis and metabolism',\n",
              " '00510': 'N-Glycan biosynthesis',\n",
              " '09123': 'Folding, sorting and degradation',\n",
              " '04141': 'Protein processing in endoplasmic reticulum',\n",
              " '03410': 'Base excision repair',\n",
              " '03420': 'Nucleotide excision repair',\n",
              " '03430': 'Mismatch repair',\n",
              " '03440': 'Homologous recombination',\n",
              " '03460': 'Fanconi anemia pathway',\n",
              " '09104': 'Nucleotide metabolism',\n",
              " '00230': 'Purine metabolism',\n",
              " '00240': 'Pyrimidine metabolism',\n",
              " '09106': 'Metabolism of other amino acids',\n",
              " '00480': 'Glutathione metabolism',\n",
              " '00670': 'One carbon pool by folate',\n",
              " '03450': 'Non-homologous end-joining',\n",
              " '03012': 'Translation factors [BR:sce03012]',\n",
              " '09122': 'Translation',\n",
              " '00970': 'Aminoacyl-tRNA biosynthesis',\n",
              " '01007': 'Amino acid related enzymes [BR:sce01007]',\n",
              " '03016': 'Transfer RNA biogenesis [BR:sce03016]',\n",
              " '00062': 'Fatty acid elongation',\n",
              " '09105': 'Amino acid metabolism',\n",
              " '00270': 'Cysteine and methionine metabolism',\n",
              " '00280': 'Valine, leucine and isoleucine degradation',\n",
              " '00290': 'Valine, leucine and isoleucine biosynthesis',\n",
              " '00770': 'Pantothenate and CoA biosynthesis',\n",
              " '00563': 'Glycosylphosphatidylinositol (GPI)-anchor biosynthesis',\n",
              " '00600': 'Sphingolipid metabolism',\n",
              " '00513': 'Various types of N-glycan biosynthesis',\n",
              " '04121': 'Ubiquitin system [BR:sce04121]',\n",
              " '01002': 'Peptidases and inhibitors [BR:sce01002]',\n",
              " '04145': 'Phagosome',\n",
              " '03041': 'Spliceosome [BR:sce03041]',\n",
              " '09126': 'Chromosome',\n",
              " '03082': 'ATP-dependent chromatin remodeling',\n",
              " '03021': 'Transcription machinery [BR:sce03021]',\n",
              " '00030': 'Pentose phosphate pathway',\n",
              " '00514': 'Other types of O-glycan biosynthesis',\n",
              " '00515': 'Mannose type O-glycan biosynthesis',\n",
              " '00920': 'Sulfur metabolism',\n",
              " '03110': 'Chaperones and folding catalysts [BR:sce03110]',\n",
              " '03018': 'RNA degradation',\n",
              " '04148': 'Efferocytosis',\n",
              " '99981': 'Carbohydrate metabolism',\n",
              " '04138': 'Autophagy - yeast',\n",
              " '01006': 'Prenyltransferases [BR:sce01006]',\n",
              " '03013': 'Nucleocytoplasmic transport',\n",
              " '00562': 'Inositol phosphate metabolism',\n",
              " '04070': 'Phosphatidylinositol signaling system',\n",
              " '03008': 'Ribosome biogenesis in eukaryotes',\n",
              " '03009': 'Ribosome biogenesis [BR:sce03009]',\n",
              " '04120': 'Ubiquitin mediated proteolysis',\n",
              " '09125': 'Information processing in viruses',\n",
              " '03273': 'Virion - Lassa virus and SFTS virus',\n",
              " '04820': 'Cytoskeleton in muscle cells',\n",
              " '09121': 'Transcription',\n",
              " '03022': 'Basal transcription factors',\n",
              " '00760': 'Nicotinate and nicotinamide metabolism',\n",
              " '09149': 'Aging',\n",
              " '04213': 'Longevity regulating pathway - multiple species'}"
            ]
          },
          "execution_count": 23,
          "metadata": {},
          "output_type": "execute_result"
        }
      ],
      "source": [
        "# Create dictionary for storing KEGG definitions\n",
        "kegg_definitions_csv = pd.read_csv(\"../classifications/atienza_maximo/kegg_definitions.csv\", dtype={'Classification ID': str})\n",
        "\n",
        "kegg_definitions_dict = kegg_definitions_csv.set_index('Classification ID').to_dict()['Function']\n",
        "\n",
        "kegg_definitions_dict"
      ]
    },
    {
      "cell_type": "code",
      "execution_count": 24,
      "metadata": {},
      "outputs": [
        {
          "name": "stdout",
          "output_type": "stream",
          "text": [
            "        Gene               Grouping  Level_1         Level_2  \\\n",
            "0    YDL179w  [09140, 09143, 04111]  [09140]  [09140, 09143]   \n",
            "1    YLR079w  [09130, 09132, 04011]  [09130]  [09130, 09132]   \n",
            "2    YER111c  [09130, 09132, 04011]  [09130]  [09130, 09132]   \n",
            "3    YBR200w  [09130, 09132, 04011]  [09130]  [09130, 09132]   \n",
            "4    YJL194w  [09140, 09143, 04111]  [09140]  [09140, 09143]   \n",
            "..       ...                    ...      ...             ...   \n",
            "144  YNL053w  [09130, 09132, 04011]  [09130]  [09130, 09132]   \n",
            "145  YKL130C  [09180, 09182, 03019]  [09180]  [09180, 09182]   \n",
            "146  YIL162w  [09100, 09101, 00052]  [09100]  [09100, 09101]   \n",
            "147  YDL138W  [09140, 09143, 04113]  [09140]  [09140, 09143]   \n",
            "148  YGR143w  [09180, 09182, 04131]  [09180]  [09180, 09182]   \n",
            "\n",
            "                   Level_3  \n",
            "0    [09140, 09143, 04111]  \n",
            "1    [09130, 09132, 04011]  \n",
            "2    [09130, 09132, 04011]  \n",
            "3    [09130, 09132, 04011]  \n",
            "4    [09140, 09143, 04111]  \n",
            "..                     ...  \n",
            "144  [09130, 09132, 04011]  \n",
            "145  [09180, 09182, 03019]  \n",
            "146  [09100, 09101, 00052]  \n",
            "147  [09140, 09143, 04113]  \n",
            "148  [09180, 09182, 04131]  \n",
            "\n",
            "[149 rows x 5 columns]\n",
            "Number of genes after filtering: 149\n",
            "Number of unique groupings in Level 1: 6\n",
            "Number of unique groupings in Level 2: 20\n",
            "Number of unique groupings in Level 3: 49\n"
          ]
        }
      ],
      "source": [
        "# Read the Excel file\n",
        "mdf = pd.read_excel('../classifications/ventures_calderon/for_groupings.xlsx', skiprows=0)\n",
        "\n",
        "# Extract IDs\n",
        "grouping = []\n",
        "for gene, item in zip(mdf.iloc[:, 0].tolist(), mdf.iloc[:, 2].tolist()):\n",
        "    IDs = re.findall(r'\\b(\\d{5}|\\b(?![a-zA-Z]{7})\\w{7}\\b)\\b', item)\n",
        "    grouping.append({'Gene': gene, 'Grouping': IDs})\n",
        "\n",
        "# Process grouping to remove entries following the first occurrence of a 7-character ID\n",
        "for entry in grouping:\n",
        "    IDs = entry['Grouping']\n",
        "    for i, ID in enumerate(IDs):\n",
        "        if len(ID) == 7:\n",
        "            entry['Grouping'] = IDs[:i]  # Keep only IDs up to the first 7-character ID\n",
        "            break\n",
        "\n",
        "# Remove rows with empty\n",
        "grouping = [entry for entry in grouping if entry['Grouping']]\n",
        "\n",
        "# Create DataFrame from list of dictionaries\n",
        "df_grouping_kegg = pd.DataFrame(grouping)\n",
        "\n",
        "# Adding columns for each level of the IDs\n",
        "max_levels = max(len(ids) for ids in df_grouping_kegg['Grouping'])\n",
        "for i in range(max_levels):\n",
        "    level_column_name = f'Level_{i+1}'\n",
        "    df_grouping_kegg[level_column_name] = df_grouping_kegg['Grouping'].apply(lambda x: x[:i+1] if len(x) > i else None)\n",
        "\n",
        "df_grouping_kegg.to_excel('output_grouping_kegg.xlsx', index=False)\n",
        "\n",
        "print(df_grouping_kegg)\n",
        "print(f\"Number of genes after filtering: {len(grouping)}\")\n",
        "print(f\"Number of unique groupings in Level 1: {len(df_grouping_kegg['Level_1'].value_counts())}\")\n",
        "print(f\"Number of unique groupings in Level 2: {len(df_grouping_kegg['Level_2'].value_counts())}\")\n",
        "print(f\"Number of unique groupings in Level 3: {len(df_grouping_kegg['Level_3'].value_counts())}\")"
      ]
    },
    {
      "cell_type": "code",
      "execution_count": 25,
      "metadata": {},
      "outputs": [
        {
          "name": "stdout",
          "output_type": "stream",
          "text": [
            "{'YDL179w': ['09140', '09143', '04111'], 'YLR079w': ['09130', '09132', '04011'], 'YER111c': ['09130', '09132', '04011'], 'YBR200w': ['09130', '09132', '04011'], 'YJL194w': ['09140', '09143', '04111'], 'YLR274w': ['09120', '09124', '03030'], 'YBR202w': ['09120', '09124', '03030'], 'YPR019w': ['09120', '09124', '03030'], 'YBL023c': ['09120', '09124', '03030'], 'YEL032w': ['09120', '09124', '03030'], 'YJL157c': ['09130', '09132', '04011'], 'YKL185w': ['09180', '09182', '03000'], 'YHR005c': ['09130', '09132', '04011'], 'YLR395c': ['09100', '09102', '00190'], 'YDL181w': ['09180', '09182', '04131'], 'YGR183c': ['09100', '09102', '00190'], 'YLR258w': ['09100', '09101', '00500'], 'YML110c': ['09100', '09108', '00130'], 'YCR005c': ['09100', '09101', '00020'], 'YCL040w': ['09100', '09101', '00010'], 'YMR256c': ['09100', '09102', '00190'], 'YIL009w': ['09100', '09103', '00061'], 'YLL040c': ['09180', '09182', '04131'], 'YNR016c': ['09100', '09101', '00620'], 'YGR109c': ['09130', '09132', '04011'], 'YPR120c': ['09130', '09132', '04011'], 'YDL127w': ['09140', '09143', '04111'], 'YNL289w': ['09140', '09143', '04111'], 'YPL256c': ['09130', '09132', '04011'], 'YMR199w': ['09130', '09132', '04011'], 'YJL187c': ['09130', '09132', '04011'], 'YDL003w': ['09140', '09143', '04111'], 'YMR076c': ['09180', '09182', '03036'], 'YFL008w': ['09140', '09143', '04111'], 'YPL241c': ['09180', '09183', '04812'], 'YMR078c': ['09180', '09182', '03036'], 'YLR212c': ['09140', '09142', '04814'], 'YPL209c': ['09180', '09181', '01001'], 'YJL074c': ['09140', '09143', '04111'], 'YNL233w': ['09180', '09183', '04812'], 'YGR152c': ['09180', '09183', '04147'], 'YDR507c': ['09140', '09143', '04111'], 'YLR286c': ['09100', '09101', '00520'], 'YIL159w': ['09130', '09132', '04011'], 'YGL027c': ['09100', '09107', '00510'], 'YML102w': ['09180', '09182', '03036'], 'YPR018w': ['09180', '09182', '03036'], 'YBL035c': ['09120', '09124', '03030'], 'YNL102w': ['09120', '09124', '03030'], 'YBR278w': ['09120', '09124', '03030'], 'YPR175w': ['09120', '09124', '03030'], 'YNL262w': ['09120', '09124', '03030'], 'YBR088c': ['09120', '09124', '03030'], 'YLR103c': ['09140', '09143', '04111'], 'YAR007c': ['09120', '09124', '03030'], 'YNL312w': ['09120', '09124', '03030'], 'YER070w': ['09100', '09104', '00230'], 'YOR074c': ['09100', '09104', '00240'], 'YDL164c': ['09120', '09124', '03030'], 'YKL045w': ['09120', '09124', '03030'], 'YBR252w': ['09100', '09104', '00240'], 'YLR032w': ['09180', '09182', '03400'], 'YML060w': ['09120', '09124', '03410'], 'YDR097c': ['09120', '09124', '03430'], 'YNL082w': ['09120', '09124', '03430'], 'YOL090w': ['09120', '09124', '03430'], 'YLR383w': ['09180', '09182', '03400'], 'YKL113c': ['09120', '09124', '03030'], 'YLR234w': ['09120', '09124', '03440'], 'YPL153c': ['09140', '09143', '04111'], 'YDL101c': ['09140', '09143', '04111'], 'YHR038W': ['09180', '09182', '03012'], 'YML021C': ['09120', '09124', '03410'], 'YML061c': ['09180', '09182', '03032'], 'YML027w': ['09140', '09143', '04111'], 'YPL127c': ['09180', '09182', '03036'], 'YGL089c': ['09130', '09132', '04011'], 'YPL187w': ['09130', '09132', '04011'], 'YLL021w': ['09130', '09132', '04011'], 'YLR382c': ['09120', '09122', '00970'], 'YJL196c': ['09100', '09103', '00062'], 'YJR148w': ['09100', '09105', '00270'], 'YOR317w': ['09100', '09103', '00061'], 'YDR113c': ['09140', '09143', '04111'], 'YNL126w': ['09180', '09182', '03036'], 'YEL061c': ['09140', '09142', '04814'], 'YHR172w': ['09180', '09182', '03036'], 'YPR141c': ['09140', '09142', '04814'], 'YLR045c': ['09180', '09182', '03036'], 'YGR140w': ['09180', '09182', '03036'], 'YBL063w': ['09140', '09142', '04814'], 'YDR488c': ['09140', '09141', '04145'], 'YOR026w': ['09140', '09143', '04111'], 'YIL140w': ['09180', '09183', '04812'], 'YKL067w': ['09100', '09104', '00230'], 'YJR006w': ['09120', '09124', '03030'], 'YBL003c': ['09120', '09126', '03082'], 'YBL002w': ['09180', '09182', '03036'], 'YMR190c': ['09120', '09124', '03440'], 'YJL115w': ['09180', '09182', '03036'], 'YCR065w': ['09180', '09182', '03000'], 'YPL016w': ['09180', '09182', '03021'], 'YBL052c': ['09180', '09182', '03036'], 'YBR275c': ['09180', '09182', '03032'], 'YIL126w': ['09180', '09182', '03021'], 'YFR037c': ['09180', '09182', '03021'], 'YKL127W': ['09100', '09101', '00010'], 'YAR008w': ['09180', '09182', '03016'], 'YER001w': ['09100', '09107', '00513'], 'YER003c': ['09100', '09101', '00051'], 'YDL093w': ['09100', '09107', '00515'], 'YKR001c': ['09180', '09182', '04131'], 'YDL095w': ['09100', '09107', '00515'], 'YNL073w': ['09120', '09122', '00970'], 'YIL050w': ['09190', '09191', '99981'], 'YIL106w': ['09130', '09132', '04392'], 'YBL097w': ['09140', '09143', '04111'], 'YJR076c': ['09180', '09183', '04812'], 'YJL099w': ['09180', '09182', '04131'], 'YKL048c': ['09140', '09141', '04138'], 'YBR038w': ['09100', '09101', '00520'], 'YJL092w': ['09120', '09124', '03420'], 'YCR084c': ['09130', '09132', '04011'], 'YGL255w': ['09180', '09183', '02000'], 'YJL137c': ['09100', '09101', '00500'], 'YOR274w': ['09180', '09181', '01006'], 'YBR104w': ['09180', '09183', '02000'], 'YGR108w': ['09130', '09132', '04011'], 'YPR119w': ['09130', '09132', '04011'], 'YAL040c': ['09140', '09143', '04111'], 'YGL116w': ['09120', '09123', '04120'], 'YOL069w': ['09180', '09182', '03036'], 'YGR092w': ['09130', '09132', '04392'], 'YOR058c': ['09180', '09182', '03036'], 'YHR023w': ['09140', '09142', '04814'], 'YPL242C': ['09180', '09183', '04812'], 'YCL037C': ['09180', '09182', '03019'], 'YMR001c': ['09140', '09143', '04111'], 'YGL021w': ['09180', '09181', '01001'], 'YCR042c': ['09120', '09121', '03022'], 'YOR025w': ['09100', '09108', '00760'], 'YOR229w': ['09180', '09182', '03036'], 'YDR146c': ['09140', '09143', '04111'], 'YLR131c': ['09180', '09182', '03000'], 'YNL053w': ['09130', '09132', '04011'], 'YKL130C': ['09180', '09182', '03019'], 'YIL162w': ['09100', '09101', '00052'], 'YDL138W': ['09140', '09143', '04113'], 'YGR143w': ['09180', '09182', '04131']}\n",
            "149\n"
          ]
        }
      ],
      "source": [
        "# Create dictionary\n",
        "gene_grouping_kegg = {gene: grouping for gene, grouping in zip(df_grouping_kegg['Gene'], df_grouping_kegg['Grouping'])}\n",
        "\n",
        "print(gene_grouping_kegg)\n",
        "print(len(gene_grouping_kegg))"
      ]
    },
    {
      "cell_type": "markdown",
      "metadata": {},
      "source": [
        "## Forming the Cho groupings"
      ]
    },
    {
      "cell_type": "code",
      "execution_count": 26,
      "metadata": {},
      "outputs": [
        {
          "ename": "FileNotFoundError",
          "evalue": "[Errno 2] No such file or directory: '../dataset/for_groupings.xlsx'",
          "output_type": "error",
          "traceback": [
            "\u001b[1;31m---------------------------------------------------------------------------\u001b[0m",
            "\u001b[1;31mFileNotFoundError\u001b[0m                         Traceback (most recent call last)",
            "Cell \u001b[1;32mIn[26], line 2\u001b[0m\n\u001b[0;32m      1\u001b[0m \u001b[38;5;66;03m# Read the Excel file\u001b[39;00m\n\u001b[1;32m----> 2\u001b[0m mdf \u001b[38;5;241m=\u001b[39m \u001b[43mpd\u001b[49m\u001b[38;5;241;43m.\u001b[39;49m\u001b[43mread_excel\u001b[49m\u001b[43m(\u001b[49m\u001b[38;5;124;43m'\u001b[39;49m\u001b[38;5;124;43m../dataset/for_groupings.xlsx\u001b[39;49m\u001b[38;5;124;43m'\u001b[39;49m\u001b[43m)\u001b[49m\n\u001b[0;32m      4\u001b[0m \u001b[38;5;66;03m# Extract Gene, Level_1, and Level_2 columns\u001b[39;00m\n\u001b[0;32m      5\u001b[0m df_grouping_cho \u001b[38;5;241m=\u001b[39m mdf\u001b[38;5;241m.\u001b[39miloc[:, [\u001b[38;5;241m0\u001b[39m, \u001b[38;5;241m5\u001b[39m, \u001b[38;5;241m6\u001b[39m]]\u001b[38;5;241m.\u001b[39mcopy()  \u001b[38;5;66;03m# Create a copy to avoid modifying the original DataFrame\u001b[39;00m\n",
            "File \u001b[1;32mc:\\Users\\Calvs\\AppData\\Local\\Programs\\Python\\Python312\\Lib\\site-packages\\pandas\\io\\excel\\_base.py:495\u001b[0m, in \u001b[0;36mread_excel\u001b[1;34m(io, sheet_name, header, names, index_col, usecols, dtype, engine, converters, true_values, false_values, skiprows, nrows, na_values, keep_default_na, na_filter, verbose, parse_dates, date_parser, date_format, thousands, decimal, comment, skipfooter, storage_options, dtype_backend, engine_kwargs)\u001b[0m\n\u001b[0;32m    493\u001b[0m \u001b[38;5;28;01mif\u001b[39;00m \u001b[38;5;129;01mnot\u001b[39;00m \u001b[38;5;28misinstance\u001b[39m(io, ExcelFile):\n\u001b[0;32m    494\u001b[0m     should_close \u001b[38;5;241m=\u001b[39m \u001b[38;5;28;01mTrue\u001b[39;00m\n\u001b[1;32m--> 495\u001b[0m     io \u001b[38;5;241m=\u001b[39m \u001b[43mExcelFile\u001b[49m\u001b[43m(\u001b[49m\n\u001b[0;32m    496\u001b[0m \u001b[43m        \u001b[49m\u001b[43mio\u001b[49m\u001b[43m,\u001b[49m\n\u001b[0;32m    497\u001b[0m \u001b[43m        \u001b[49m\u001b[43mstorage_options\u001b[49m\u001b[38;5;241;43m=\u001b[39;49m\u001b[43mstorage_options\u001b[49m\u001b[43m,\u001b[49m\n\u001b[0;32m    498\u001b[0m \u001b[43m        \u001b[49m\u001b[43mengine\u001b[49m\u001b[38;5;241;43m=\u001b[39;49m\u001b[43mengine\u001b[49m\u001b[43m,\u001b[49m\n\u001b[0;32m    499\u001b[0m \u001b[43m        \u001b[49m\u001b[43mengine_kwargs\u001b[49m\u001b[38;5;241;43m=\u001b[39;49m\u001b[43mengine_kwargs\u001b[49m\u001b[43m,\u001b[49m\n\u001b[0;32m    500\u001b[0m \u001b[43m    \u001b[49m\u001b[43m)\u001b[49m\n\u001b[0;32m    501\u001b[0m \u001b[38;5;28;01melif\u001b[39;00m engine \u001b[38;5;129;01mand\u001b[39;00m engine \u001b[38;5;241m!=\u001b[39m io\u001b[38;5;241m.\u001b[39mengine:\n\u001b[0;32m    502\u001b[0m     \u001b[38;5;28;01mraise\u001b[39;00m \u001b[38;5;167;01mValueError\u001b[39;00m(\n\u001b[0;32m    503\u001b[0m         \u001b[38;5;124m\"\u001b[39m\u001b[38;5;124mEngine should not be specified when passing \u001b[39m\u001b[38;5;124m\"\u001b[39m\n\u001b[0;32m    504\u001b[0m         \u001b[38;5;124m\"\u001b[39m\u001b[38;5;124man ExcelFile - ExcelFile already has the engine set\u001b[39m\u001b[38;5;124m\"\u001b[39m\n\u001b[0;32m    505\u001b[0m     )\n",
            "File \u001b[1;32mc:\\Users\\Calvs\\AppData\\Local\\Programs\\Python\\Python312\\Lib\\site-packages\\pandas\\io\\excel\\_base.py:1550\u001b[0m, in \u001b[0;36mExcelFile.__init__\u001b[1;34m(self, path_or_buffer, engine, storage_options, engine_kwargs)\u001b[0m\n\u001b[0;32m   1548\u001b[0m     ext \u001b[38;5;241m=\u001b[39m \u001b[38;5;124m\"\u001b[39m\u001b[38;5;124mxls\u001b[39m\u001b[38;5;124m\"\u001b[39m\n\u001b[0;32m   1549\u001b[0m \u001b[38;5;28;01melse\u001b[39;00m:\n\u001b[1;32m-> 1550\u001b[0m     ext \u001b[38;5;241m=\u001b[39m \u001b[43minspect_excel_format\u001b[49m\u001b[43m(\u001b[49m\n\u001b[0;32m   1551\u001b[0m \u001b[43m        \u001b[49m\u001b[43mcontent_or_path\u001b[49m\u001b[38;5;241;43m=\u001b[39;49m\u001b[43mpath_or_buffer\u001b[49m\u001b[43m,\u001b[49m\u001b[43m \u001b[49m\u001b[43mstorage_options\u001b[49m\u001b[38;5;241;43m=\u001b[39;49m\u001b[43mstorage_options\u001b[49m\n\u001b[0;32m   1552\u001b[0m \u001b[43m    \u001b[49m\u001b[43m)\u001b[49m\n\u001b[0;32m   1553\u001b[0m     \u001b[38;5;28;01mif\u001b[39;00m ext \u001b[38;5;129;01mis\u001b[39;00m \u001b[38;5;28;01mNone\u001b[39;00m:\n\u001b[0;32m   1554\u001b[0m         \u001b[38;5;28;01mraise\u001b[39;00m \u001b[38;5;167;01mValueError\u001b[39;00m(\n\u001b[0;32m   1555\u001b[0m             \u001b[38;5;124m\"\u001b[39m\u001b[38;5;124mExcel file format cannot be determined, you must specify \u001b[39m\u001b[38;5;124m\"\u001b[39m\n\u001b[0;32m   1556\u001b[0m             \u001b[38;5;124m\"\u001b[39m\u001b[38;5;124man engine manually.\u001b[39m\u001b[38;5;124m\"\u001b[39m\n\u001b[0;32m   1557\u001b[0m         )\n",
            "File \u001b[1;32mc:\\Users\\Calvs\\AppData\\Local\\Programs\\Python\\Python312\\Lib\\site-packages\\pandas\\io\\excel\\_base.py:1402\u001b[0m, in \u001b[0;36minspect_excel_format\u001b[1;34m(content_or_path, storage_options)\u001b[0m\n\u001b[0;32m   1399\u001b[0m \u001b[38;5;28;01mif\u001b[39;00m \u001b[38;5;28misinstance\u001b[39m(content_or_path, \u001b[38;5;28mbytes\u001b[39m):\n\u001b[0;32m   1400\u001b[0m     content_or_path \u001b[38;5;241m=\u001b[39m BytesIO(content_or_path)\n\u001b[1;32m-> 1402\u001b[0m \u001b[38;5;28;01mwith\u001b[39;00m \u001b[43mget_handle\u001b[49m\u001b[43m(\u001b[49m\n\u001b[0;32m   1403\u001b[0m \u001b[43m    \u001b[49m\u001b[43mcontent_or_path\u001b[49m\u001b[43m,\u001b[49m\u001b[43m \u001b[49m\u001b[38;5;124;43m\"\u001b[39;49m\u001b[38;5;124;43mrb\u001b[39;49m\u001b[38;5;124;43m\"\u001b[39;49m\u001b[43m,\u001b[49m\u001b[43m \u001b[49m\u001b[43mstorage_options\u001b[49m\u001b[38;5;241;43m=\u001b[39;49m\u001b[43mstorage_options\u001b[49m\u001b[43m,\u001b[49m\u001b[43m \u001b[49m\u001b[43mis_text\u001b[49m\u001b[38;5;241;43m=\u001b[39;49m\u001b[38;5;28;43;01mFalse\u001b[39;49;00m\n\u001b[0;32m   1404\u001b[0m \u001b[43m\u001b[49m\u001b[43m)\u001b[49m \u001b[38;5;28;01mas\u001b[39;00m handle:\n\u001b[0;32m   1405\u001b[0m     stream \u001b[38;5;241m=\u001b[39m handle\u001b[38;5;241m.\u001b[39mhandle\n\u001b[0;32m   1406\u001b[0m     stream\u001b[38;5;241m.\u001b[39mseek(\u001b[38;5;241m0\u001b[39m)\n",
            "File \u001b[1;32mc:\\Users\\Calvs\\AppData\\Local\\Programs\\Python\\Python312\\Lib\\site-packages\\pandas\\io\\common.py:882\u001b[0m, in \u001b[0;36mget_handle\u001b[1;34m(path_or_buf, mode, encoding, compression, memory_map, is_text, errors, storage_options)\u001b[0m\n\u001b[0;32m    873\u001b[0m         handle \u001b[38;5;241m=\u001b[39m \u001b[38;5;28mopen\u001b[39m(\n\u001b[0;32m    874\u001b[0m             handle,\n\u001b[0;32m    875\u001b[0m             ioargs\u001b[38;5;241m.\u001b[39mmode,\n\u001b[1;32m   (...)\u001b[0m\n\u001b[0;32m    878\u001b[0m             newline\u001b[38;5;241m=\u001b[39m\u001b[38;5;124m\"\u001b[39m\u001b[38;5;124m\"\u001b[39m,\n\u001b[0;32m    879\u001b[0m         )\n\u001b[0;32m    880\u001b[0m     \u001b[38;5;28;01melse\u001b[39;00m:\n\u001b[0;32m    881\u001b[0m         \u001b[38;5;66;03m# Binary mode\u001b[39;00m\n\u001b[1;32m--> 882\u001b[0m         handle \u001b[38;5;241m=\u001b[39m \u001b[38;5;28;43mopen\u001b[39;49m\u001b[43m(\u001b[49m\u001b[43mhandle\u001b[49m\u001b[43m,\u001b[49m\u001b[43m \u001b[49m\u001b[43mioargs\u001b[49m\u001b[38;5;241;43m.\u001b[39;49m\u001b[43mmode\u001b[49m\u001b[43m)\u001b[49m\n\u001b[0;32m    883\u001b[0m     handles\u001b[38;5;241m.\u001b[39mappend(handle)\n\u001b[0;32m    885\u001b[0m \u001b[38;5;66;03m# Convert BytesIO or file objects passed with an encoding\u001b[39;00m\n",
            "\u001b[1;31mFileNotFoundError\u001b[0m: [Errno 2] No such file or directory: '../dataset/for_groupings.xlsx'"
          ]
        }
      ],
      "source": [
        "# Read the Excel file\n",
        "mdf = pd.read_excel('../dataset/for_groupings.xlsx')\n",
        "\n",
        "# Extract Gene, Level_1, and Level_2 columns\n",
        "df_grouping_cho = mdf.iloc[:, [0, 5, 6]].copy()  # Create a copy to avoid modifying the original DataFrame\n",
        "\n",
        "# Rename the columns\n",
        "df_grouping_cho.columns = ['Gene', 'Level_1', 'Level_2']\n",
        "\n",
        "# Treat Level_1 and Level_2 columns as strings\n",
        "df_grouping_cho['Level_1'] = df_grouping_cho['Level_1'].astype(str)\n",
        "df_grouping_cho['Level_2'] = df_grouping_cho['Level_2'].astype(str)\n",
        "\n",
        "# Merge Level_1 and Level_2 columns into a single Grouping column\n",
        "df_grouping_cho['Grouping'] = df_grouping_cho[['Level_1', 'Level_2']].apply(list, axis=1)\n",
        "\n",
        "# Filter out rows with similar elements in the groupings: no subcluster if similar\n",
        "def has_duplicate_elements(grouping):\n",
        "    element_counts = Counter(grouping)\n",
        "    return any(count > 1 for count in element_counts.values())\n",
        "\n",
        "df_grouping_cho = df_grouping_cho[~df_grouping_cho['Grouping'].apply(has_duplicate_elements)]\n",
        "\n",
        "# Reorder columns\n",
        "df_grouping_cho = df_grouping_cho[['Gene', 'Grouping', 'Level_1', 'Level_2']]\n",
        "\n",
        "df_grouping_cho.reset_index(drop=True, inplace=True)\n",
        "\n",
        "df_grouping_kegg.to_excel('output_grouping_cho.xlsx', index=False)\n",
        "\n",
        "print(df_grouping_cho)\n",
        "print(f\"Number of genes after filtering: {len(df_grouping_cho)}\")\n",
        "print(f\"Number of unique groupings in Level 1: {len(df_grouping_cho['Level_1'].value_counts())}\")\n",
        "print(f\"Number of unique groupings in Level 2: {len(df_grouping_cho['Level_2'].value_counts())}\")"
      ]
    },
    {
      "cell_type": "code",
      "execution_count": null,
      "metadata": {},
      "outputs": [],
      "source": [
        "# Create dictionary\n",
        "gene_grouping_cho = {gene: grouping for gene, grouping in zip(df_grouping_cho['Gene'], df_grouping_cho['Grouping'])}\n",
        "\n",
        "print(gene_grouping_cho)\n",
        "print(len(gene_grouping_cho))"
      ]
    },
    {
      "cell_type": "markdown",
      "metadata": {},
      "source": [
        "## RI, MRI, and ARI comparison"
      ]
    },
    {
      "cell_type": "code",
      "execution_count": null,
      "metadata": {},
      "outputs": [],
      "source": [
        "# Function to calculate the metric scores for different levels of groupings\n",
        "def calculate_ari(kegg, cho, level_kegg, level_cho):\n",
        "    kegg_labels = [value[level_kegg] for value in kegg.values()]\n",
        "    cho_labels = [value[level_cho] for value in cho.values()]\n",
        "\n",
        "    # print(kegg_labels)\n",
        "    # print(cho_labels)\n",
        "\n",
        "    ri = rand_score(kegg_labels, cho_labels)\n",
        "    ari = adjusted_rand_score(kegg_labels, cho_labels)\n",
        "    mri = modified_rand_score(kegg_labels, cho_labels)\n",
        "    return ri, ari, mri\n",
        "\n",
        "# List to store ARI values\n",
        "ari_values = []\n",
        "\n",
        "# Loop through different levels of KEGG and CHO groupings\n",
        "for level_kegg in range(3):\n",
        "    for level_cho in range(2):\n",
        "        ri, ari, mri = calculate_ari(gene_grouping_kegg, gene_grouping_cho, level_kegg, level_cho)\n",
        "        ari_values.append({'KEGG Level': level_kegg+1, 'CHO Level': level_cho+1, 'RI': ri, 'ARI': ari, 'MRI': mri})\n",
        "\n",
        "# Create DataFrame to store ARI values\n",
        "ari_df = pd.DataFrame(ari_values)\n",
        "\n",
        "# Display DataFrame\n",
        "print(ari_df)"
      ]
    }
  ],
  "metadata": {
    "kernelspec": {
      "display_name": "Python 3",
      "language": "python",
      "name": "python3"
    },
    "language_info": {
      "codemirror_mode": {
        "name": "ipython",
        "version": 3
      },
      "file_extension": ".py",
      "mimetype": "text/x-python",
      "name": "python",
      "nbconvert_exporter": "python",
      "pygments_lexer": "ipython3",
      "version": "3.12.3"
    }
  },
  "nbformat": 4,
  "nbformat_minor": 2
}
