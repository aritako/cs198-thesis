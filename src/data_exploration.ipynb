{
  "cells": [
    {
      "cell_type": "markdown",
      "metadata": {},
      "source": [
        "# Install Dependencies"
      ]
    },
    {
      "cell_type": "code",
      "execution_count": null,
      "metadata": {},
      "outputs": [],
      "source": [
        "import pandas as pd\n",
        "from sklearn.metrics import pair_confusion_matrix\n",
        "import numpy as np"
      ]
    },
    {
      "cell_type": "markdown",
      "metadata": {},
      "source": [
        "# Data Exploration"
      ]
    },
    {
      "cell_type": "markdown",
      "metadata": {},
      "source": [
        "### Checking if Cho is a proper subset of KEGG"
      ]
    },
    {
      "cell_type": "code",
      "execution_count": null,
      "metadata": {},
      "outputs": [
        {
          "name": "stdout",
          "output_type": "stream",
          "text": [
            "Are all cho_genes present in kegg_genes? False\n",
            "Number of missing genes in kegg_genes: 21\n",
            "18     YLR273c\n",
            "34     YKL042w\n",
            "39     YNL225c\n",
            "43     YLR313c\n",
            "44     YGR041w\n",
            "61     YJL173c\n",
            "80     YMR179w\n",
            "85     YDL227c\n",
            "86     YNL173c\n",
            "101    YMR198w\n",
            "103    YDR356w\n",
            "111    YDL197c\n",
            "123    YIR017c\n",
            "130    YKL049c\n",
            "131    YCL014w\n",
            "132    YOR188w\n",
            "140    YLR014c\n",
            "150    YBR138c\n",
            "154    YJR092w\n",
            "155    YLR353w\n",
            "168    YDL048c\n",
            "Name: Gene, dtype: object\n"
          ]
        }
      ],
      "source": [
        "\n",
        "\n",
        "\n",
        "cho_data = pd.read_csv('../dataset/Cho_Ours.txt', sep='\\t')\n",
        "cho_genes = cho_data.iloc[:, 0]\n",
        "\n",
        "kegg_data = pd.read_csv('../dataset/Kegg_Subcluster.txt', sep='\\t')\n",
        "kegg_genes = kegg_data.iloc[:, 0]\n",
        "\n",
        "cho_genes_in_kegg = cho_genes.isin(kegg_genes)\n",
        "cho_genes_not_in_kegg = cho_genes[~cho_genes_in_kegg]\n",
        "missing_genes_count = cho_genes_not_in_kegg.count()\n",
        "print(\"Are all cho_genes present in kegg_genes?\", cho_genes_in_kegg.all())\n",
        "print(\"Number of missing genes in kegg_genes:\", missing_genes_count)\n",
        "print(cho_genes_not_in_kegg)"
      ]
    },
    {
      "cell_type": "markdown",
      "metadata": {},
      "source": [
        "# Formulation of the Modified Rand Index"
      ]
    },
    {
      "cell_type": "code",
      "execution_count": null,
      "metadata": {},
      "outputs": [],
      "source": [
        "def modified_rand_score(labels_true, labels_pred):\n",
        "    \"\"\"\n",
        "    Computes the Modified Rand Index (MRI), an extension of the Rand Index\n",
        "    that accounts for missing elements between partitions.\n",
        "    \n",
        "    Parameters:\n",
        "    - labels_true: array-like, shape (n_samples,)\n",
        "      Ground truth labels (e.g., KEGG or Cho dataset).\n",
        "      \n",
        "    - labels_pred: array-like, shape (n_samples,)\n",
        "      Predicted labels from a clustering algorithm.\n",
        "\n",
        "    Returns:\n",
        "    - MRI: float\n",
        "      A similarity score between 0.0 and 1.0, where higher values indicate better alignment.\n",
        "    \"\"\"\n",
        "    \n",
        "    # Compute confusion matrix components\n",
        "    contingency = pair_confusion_matrix(labels_true, labels_pred)\n",
        "    \n",
        "    # Extract agreement and disagreement values\n",
        "    n_00, n_01, n_10, n_11 = contingency.ravel()\n",
        "    \n",
        "    # Compute n_xx (pairs where at least one node is missing in one partition)\n",
        "    total_nodes_true = len(set(labels_true))  # Unique classes in true labels\n",
        "    total_nodes_pred = len(set(labels_pred))  # Unique classes in predicted labels\n",
        "    missing_pairs = abs(total_nodes_true - total_nodes_pred) * (abs(total_nodes_true - total_nodes_pred) - 1) / 2\n",
        "    n_xx = int(missing_pairs)\n",
        "\n",
        "    # Compute total pairs\n",
        "    total_pairs = n_00 + n_11 + n_01 + n_10 + n_xx\n",
        "\n",
        "    # Compute MRI score\n",
        "    if total_pairs == 0:\n",
        "        return 1.0  # Perfect match in trivial cases\n",
        "\n",
        "    MRI = (n_00 + n_11 + n_xx) / total_pairs\n",
        "    return MRI"
      ]
    }
  ],
  "metadata": {
    "kernelspec": {
      "display_name": "Python 3",
      "language": "python",
      "name": "python3"
    },
    "language_info": {
      "codemirror_mode": {
        "name": "ipython",
        "version": 3
      },
      "file_extension": ".py",
      "mimetype": "text/x-python",
      "name": "python",
      "nbconvert_exporter": "python",
      "pygments_lexer": "ipython3",
      "version": "3.12.0"
    }
  },
  "nbformat": 4,
  "nbformat_minor": 2
}
