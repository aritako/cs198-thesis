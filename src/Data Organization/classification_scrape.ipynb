{
 "cells": [
  {
   "cell_type": "markdown",
   "metadata": {},
   "source": [
    "# KEGG Classification Web Scraping\n",
    "\n",
    "Given our Genes from the Cleaned Cho Data, we want to scrape the classifications of these genes from the KEGG database (https://www.genome.jp/entry/)"
   ]
  },
  {
   "cell_type": "markdown",
   "metadata": {},
   "source": [
    "# Install Dependencies"
   ]
  },
  {
   "cell_type": "code",
   "execution_count": 5,
   "metadata": {},
   "outputs": [],
   "source": [
    "import requests\n",
    "import pandas as pd\n",
    "from bs4 import BeautifulSoup\n",
    "import time\n",
    "import re"
   ]
  },
  {
   "cell_type": "markdown",
   "metadata": {},
   "source": [
    "# Obtain Cho Genes"
   ]
  },
  {
   "cell_type": "code",
   "execution_count": 6,
   "metadata": {},
   "outputs": [],
   "source": [
    "BASE_URL = \"https://www.genome.jp/entry/sce:\"\n",
    "cho_data = pd.read_csv(\"../../dataset/raw/cho_cleaned.txt\", sep=\"\\t\")\n",
    "cho_data_genes = cho_data[\"Gene\"].tolist()"
   ]
  },
  {
   "cell_type": "markdown",
   "metadata": {},
   "source": [
    "# Scraping the KEGG Classifications"
   ]
  },
  {
   "cell_type": "code",
   "execution_count": 7,
   "metadata": {},
   "outputs": [
    {
     "name": "stdout",
     "output_type": "stream",
     "text": [
      "['YDL179w', 'YLR079w', 'YER111c', 'YBR200w', 'YJL194w', 'YLR274w', 'YBR202w', 'YPR019w', 'YBL023c', 'YEL032w', 'YGR044c', 'YML109w', 'YJL157c', 'YKL185w', 'YHR005c', 'YNR001c', 'YKL150w', 'YLR395c', 'YOR065w', 'YDL181w', 'YGR183c', 'YLR258w', 'YML110c', 'YLR273c', 'YCR005c', 'YCL040w', 'YMR256c', 'YIL009w', 'YLL040c', 'YNR016c', 'YBR067c', 'YPL058c', 'YGL055w', 'YGR281W', 'YBR083w', 'YBR054w', 'YKL116c', 'YPR002w', 'YNR067c', 'YBR158w', 'YDL117w', 'YGR035c', 'YHL026c', 'YMR007w', 'YMR254c', 'YNL046w', 'YOR264w', 'YPL066w', 'YBR052c', 'YPL158c', 'YHR022c', 'YPL004c', 'YBR157c', 'YNL078w', 'YOR066w', 'YMR031c', 'YBR053c', 'YDR511w', 'YLR254c', 'YDR033w', 'YKL163w', 'YBR231c', 'YDR368w', 'YLR050c', 'YLR049c', 'YOR273c', 'YLR015w', 'YGR109c', 'YPR120c', 'YDL127w', 'YNL289w', 'YPL256c', 'YMR199w', 'YJL187c', 'YDL003w', 'YMR076c', 'YKL042w', 'YFL008w', 'YPL241c', 'YMR078c', 'YLR212c', 'YNL225c', 'YPL209c', 'YJL074c', 'YNL233w', 'YLR313c', 'YGR041w', 'YGR152c', 'YDR507c', 'YLR286c', 'YIL159w', 'YGL027c', 'YML102w', 'YPR018w', 'YBL035c', 'YNL102w', 'YBR278w', 'YPR175w', 'YNL262w', 'YBR088c', 'YLR103c', 'YAR007c', 'YNL312w', 'YJL173c', 'YER070w', 'YOR074c', 'YDL164c', 'YKL045w', 'YBR252w', 'YLR032w', 'YML060w', 'YDR097c', 'YNL082w', 'YOL090w', 'YLR383w', 'YKL113c', 'YLR234w', 'YPL153c', 'YDL101c', 'YHR038W', 'YML021C', 'YML061c', 'YMR179w', 'YML027w', 'YPL127c', 'YGL089c', 'YPL187w', 'YDL227c', 'YNL173c', 'YLL021w', 'YLR382c', 'YJL196c', 'YJR148w', 'YOR317w', 'YKL165c', 'YLL002w', 'YPL124w', 'YKL101w', 'YLR457c', 'YDR297w', 'YBR070c', 'YLR233c', 'YPL057C', 'YBR073w', 'YGL200c', 'YHR153c', 'YNL272C', 'YOR316C', 'YKR077w', 'YDL105w', 'YPL267w', 'YDL156w', 'YOL017w', 'YBR071w', 'YLL022c', 'YLR236c', 'YCL022c', 'YCL024w', 'YLR121c', 'YHR154w', 'YHR110w', 'YDL010w', 'YPR174c', 'YJL181w', 'YLR183c', 'YOL007c', 'YIL026c', 'YJR043c', 'YKL108w', 'YLR326w', 'YLR381w', 'YNL273w', 'YPL014w', 'YJL018w', 'YBR089w', 'YLR349w', 'YCL061c', 'YDR309c', 'YKR013w', 'YJL078c', 'YKL161c', 'YDL018c', 'YKR083c', 'YDR383c', 'YDR013w', 'YGR238c', 'YHR113w', 'YDL119c', 'YDL124w', 'YHR039c', 'YDR493w', 'YNL309w', 'YPL208w', 'YLR376c', 'YNL300w', 'YAR003W', 'YCL060c', 'YDL103c', 'YGL028c', 'YNL303w', 'YNL310c', 'YOR144c', 'YDR113c', 'YNL126w', 'YEL061c', 'YHR172w', 'YPR141c', 'YLR045c', 'YGR140w', 'YBL063w', 'YDR488c', 'YMR198w', 'YOR026w', 'YDR356w', 'YIL140w', 'YKL067w', 'YJR006w', 'YBL003c', 'YBL002w', 'YMR190c', 'YJL115w', 'YDL197c', 'YCR065w', 'YPL016w', 'YBL052c', 'YBR275c', 'YIL126w', 'YFR037c', 'YKL127W', 'YAR008w', 'YER001w', 'YER003c', 'YDL093w', 'YIR017c', 'YKR001c', 'YDL095w', 'YNL073w', 'YER118c', 'YJR137c', 'YER017c', 'YER016w', 'YCR035c', 'YOL019w', 'YLR151c', 'YOR284w', 'YMR048w', 'YKR010c', 'YHR061c', 'YEL017w', 'YLL062c', 'YJR155w', 'YLR126c', 'YJL118w', 'YDR179c', 'YDR219c', 'YNL176c', 'YER018c', 'YBR156c', 'YLR455w', 'YBR184w', 'YLR228c', 'YDR252w', 'YNL304w', 'YGR189C', 'YAL034W-a', 'YBR007c', 'YBR276c', 'YCRX04w', 'YDL096c', 'YEL018w', 'YER019w', 'YFR026C', 'YFR027W', 'YFR038w', 'YKL066W', 'YLL061w', 'YNL072W', 'YIL050w', 'YIL106w', 'YBL097w', 'YKL049c', 'YCL014w', 'YOR188w', 'YJR076c', 'YJL099w', 'YKL048c', 'YBR038w', 'YJL092w', 'YCR084c', 'YGL255w', 'YLR014c', 'YJL137c', 'YOR274w', 'YBR104w', 'YJR112w', 'YCR073c', 'YDL198c', 'YLL046c', 'YDR389w', 'YDR464w', 'YKL068w', 'YIL131c', 'YDR451c', 'YCR085w', 'YMR003w', 'YNR009w', 'YOR073w', 'YMR215w', 'YLL047w', 'YDR366c', 'YIL158w', 'YGL101w', 'YJR110w', 'YOL012c', 'YBL032w', 'YBR043c', 'YCL012w', 'YCL013w', 'YCL062w', 'YCL063w', 'YCR086w', 'YDR324C', 'YDR325W', 'YIL169C', 'YKL052C', 'YKL053W', 'YKL069W', 'YPL116W', 'YPL264C', 'YGR108w', 'YPR119w', 'YAL040c', 'YGL116w', 'YOL069w', 'YGR092w', 'YBR138c', 'YOR058c', 'YHR023w', 'YPL242C', 'YJR092w', 'YLR353w', 'YCL037C', 'YMR001c', 'YGL021w', 'YCR042c', 'YOR025w', 'YOR229w', 'YDR146c', 'YLR131c', 'YNL053w', 'YKL130C', 'YIL162w', 'YDL138W', 'YDL048c', 'YGR143w', 'YKL129c', 'YIL167w', 'YHR152w', 'YPR167C', 'YJL079c', 'YAR018c', 'YAL022c', 'YGR279c', 'YGL201c', 'YNL057w', 'YML119w', 'YOL137w', 'YPL186c', 'YCL038c', 'YML033w', 'YML034w', 'YKR021w', 'YPR157w', 'YJL051w', 'YOL014w', 'YOR315w', 'YGR230w', 'YLR190w', 'YMR032w', 'YOL070c', 'YLR297W', 'YHL028W', 'YHR151C', 'YNL058C']\n"
     ]
    }
   ],
   "source": [
    "def scrape_kegg_definitions(gene_id_list):\n",
    "    definitions = {}\n",
    "    for gene_id in gene_id_list:\n",
    "        url = BASE_URL + gene_id.upper()\n",
    "        response = requests.get(url)\n",
    "        if response.status_code != 200:\n",
    "            print(\"ERROR:\", gene_id)\n",
    "            continue\n",
    "        \n",
    "        soup = BeautifulSoup(response.text, \"html.parser\")\n",
    "        brite_tag = soup.find(\"th\", string=\"Brite\")\n",
    "        brite_levels = brite_tag.find_next_sibling(\"td\").text.strip() if brite_tag else None\n",
    "        \n",
    "        if brite_levels:\n",
    "            lines = brite_levels.split(\"\\n\")\n",
    "            for line in lines:\n",
    "                # Check if the line starts with a 5-digit ID followed by a description\n",
    "                split_line = line.split(maxsplit=1)  # Split only at the first space\n",
    "                \n",
    "                if len(split_line) < 2:  # Ensure there's a description\n",
    "                    continue\n",
    "                \n",
    "                classification = split_line[0]\n",
    "                description = split_line[1]\n",
    "\n",
    "                # Check if classification is exactly 5 digits long\n",
    "                if re.match(r\"^\\d{5}$\", classification):  \n",
    "                    definitions[classification] = description\n",
    "\n",
    "    df = pd.DataFrame(definitions.items(), columns=[\"Classification ID\", \"Function\"])\n",
    "    df.to_csv(\"../../classifications/atienza_maximo/kegg_definitions.csv\", index=False)\n",
    "\n",
    "print(cho_data_genes)\n",
    "scrape_kegg_definitions(['YDL179w', 'YLR079w', 'YER111c', 'YBR200w', 'YJL194w'])"
   ]
  },
  {
   "cell_type": "code",
   "execution_count": 8,
   "metadata": {},
   "outputs": [
    {
     "name": "stdout",
     "output_type": "stream",
     "text": [
      "1  09130 Environmental Information Processing\n",
      "2   09132 Signal transduction\n",
      "3    04011 MAPK signaling pathway - yeast\n",
      "4     YLR079W (SIC1)\n",
      "1  09140 Cellular Processes\n",
      "2   09143 Cell growth and death\n",
      "3    04111 Cell cycle - yeast\n",
      "4     YLR079W (SIC1)\n",
      "3    04113 Meiosis - yeast\n",
      "4     YLR079W (SIC1)\n"
     ]
    },
    {
     "data": {
      "text/plain": [
       "{'Gene ID': 'YLR079w',\n",
       " 'Gene Name': '(RefSeq) cyclin-dependent protein serine/threonine kinase inhibiting protein SIC1'}"
      ]
     },
     "execution_count": 8,
     "metadata": {},
     "output_type": "execute_result"
    }
   ],
   "source": [
    "def scrape_kegg_classifications(gene_id):\n",
    "\turl = BASE_URL + gene_id.upper()  # Ensure uppercase\n",
    "\tresponse = requests.get(url)\n",
    "\tif response.status_code != 200:\n",
    "\t\tprint(\"ERROR:\", gene_id)\n",
    "\t\treturn\n",
    "\tsoup = BeautifulSoup(response.text, \"html.parser\")\n",
    "\tname_tag = soup.find(\"th\", string=\"Name\")\n",
    "\tgene_name = name_tag.find_next_sibling(\"td\").text.strip() if name_tag else None\n",
    "\n",
    "\t# Filter keywords\n",
    "\tkeywords = ['KEGG', 'BRITE']\n",
    "\n",
    "\t# Extract classification hierarchy\n",
    "\tbrite_hierarchy = []\n",
    "\tbrite_tag = soup.find(\"th\", string=\"Brite\")\n",
    "\tbrite_levels = brite_tag.find_next_sibling(\"td\").text.strip() if brite_tag else None\n",
    "\tif brite_levels:\n",
    "\t\tlines = brite_levels.split(\"\\n\")\n",
    "\t\tfor line in lines:\n",
    "\t\t\tif line.count(\"\\xa0\") < 1 or line.count(\"\\xa0\") > 4:\n",
    "\t\t\t\tcontinue\n",
    "\t\t\thierarchy_level = line.count(\"\\xa0\")\n",
    "\t\t\tprint(hierarchy_level, line)\n",
    "\n",
    "\n",
    "\treturn {\n",
    "\t\t\t\"Gene ID\": gene_id,\n",
    "\t\t\t\"Gene Name\": gene_name,\n",
    "\t}\n",
    "\n",
    "scrape_kegg_classifications(\"YLR079w\")"
   ]
  }
 ],
 "metadata": {
  "kernelspec": {
   "display_name": "Python 3",
   "language": "python",
   "name": "python3"
  },
  "language_info": {
   "codemirror_mode": {
    "name": "ipython",
    "version": 3
   },
   "file_extension": ".py",
   "mimetype": "text/x-python",
   "name": "python",
   "nbconvert_exporter": "python",
   "pygments_lexer": "ipython3",
   "version": "3.12.3"
  }
 },
 "nbformat": 4,
 "nbformat_minor": 2
}
