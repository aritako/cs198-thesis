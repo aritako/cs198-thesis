{
 "cells": [
  {
   "cell_type": "markdown",
   "metadata": {},
   "source": [
    "# Install Dependencies"
   ]
  },
  {
   "cell_type": "code",
   "execution_count": 25,
   "metadata": {},
   "outputs": [],
   "source": [
    "import pandas as pd"
   ]
  },
  {
   "cell_type": "markdown",
   "metadata": {},
   "source": [
    "# Cho Preprocessing"
   ]
  },
  {
   "cell_type": "code",
   "execution_count": null,
   "metadata": {},
   "outputs": [],
   "source": [
    "def clean_cho_dataset():\n",
    "  with open('../dataset/raw/cho_original.txt', 'r') as file:\n",
    "    lines = [line.strip() for line in file]\n",
    "  with open ('../dataset/raw/cho_cleaned.txt', 'w') as file:\n",
    "    for line in lines:\n",
    "      file.write(line + '\\n')\n",
    "# Generate the cleaned dataset. We only need to run this once.\n",
    "# clean_cho_dataset()"
   ]
  },
  {
   "cell_type": "code",
   "execution_count": 28,
   "metadata": {},
   "outputs": [
    {
     "name": "stdout",
     "output_type": "stream",
     "text": [
      "      Gene  Gp       c1       c2       c3       c4       c5       c6       c7  \\\n",
      "0  YDL179w   1 -0.75808 -0.90319 -0.98935 -0.73995 -0.67193 -0.12777 -0.95307   \n",
      "1  YLR079w   1 -0.48845 -0.70828 -0.47688 -0.65814 -0.45374 -0.47302 -0.71214   \n",
      "2  YER111c   1 -0.42218  0.23887  1.84427 -0.02083 -0.61105 -0.65827 -0.79992   \n",
      "3  YBR200w   1  0.09824  0.55258 -0.89641 -1.19111 -1.11744 -0.76133  0.09824   \n",
      "4  YJL194w   1 -1.29859  1.71422 -0.52745 -1.11926 -0.63505 -0.02532 -0.36605   \n",
      "\n",
      "        c8       c9      c10      c11      c12      c13      c14      c15  \\\n",
      "0 -1.01656  0.79730  2.11688  1.98537  0.61591  0.56603 -0.13684 -0.52228   \n",
      "1 -1.02839  0.24048  3.11376  1.28952  0.44874  0.04379 -0.31104 -0.30332   \n",
      "2 -0.39857 -0.09166  2.03314  1.58457  0.68744  0.14443 -0.72910 -1.46097   \n",
      "3  2.16120  1.46126  1.03148  0.67537 -0.33155 -0.60170 -1.39987 -0.42978   \n",
      "4 -0.76059  1.44522  2.05496 -0.22259  0.20782 -0.36605  0.01055 -0.77852   \n",
      "\n",
      "       c16      c17  \n",
      "0 -0.05068  0.78823  \n",
      "1 -0.34575  0.82285  \n",
      "2 -0.82353 -0.51662  \n",
      "3 -0.15963  0.81045  \n",
      "4 -0.49159  1.15829  \n"
     ]
    }
   ],
   "source": [
    "raw_cho_data = pd.read_csv('../dataset/raw/cho_cleaned.txt', sep='\\t', header=0)\n",
    "print(raw_cho_data.head())\n",
    "# print(raw_cho_data.iloc[:, 0])"
   ]
  }
 ],
 "metadata": {
  "kernelspec": {
   "display_name": "Python 3",
   "language": "python",
   "name": "python3"
  },
  "language_info": {
   "codemirror_mode": {
    "name": "ipython",
    "version": 3
   },
   "file_extension": ".py",
   "mimetype": "text/x-python",
   "name": "python",
   "nbconvert_exporter": "python",
   "pygments_lexer": "ipython3",
   "version": "3.12.0"
  }
 },
 "nbformat": 4,
 "nbformat_minor": 2
}
